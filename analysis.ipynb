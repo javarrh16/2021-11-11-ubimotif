{
 "cells": [
  {
   "cell_type": "markdown",
   "id": "b43c3d53-ecc4-46a2-b6b8-aeed9ecf8042",
   "metadata": {},
   "source": [
    "# Analysis\n",
    "\n",
    "This is my analysis"
   ]
  },
  {
   "cell_type": "code",
   "execution_count": 1,
   "id": "0f211820-96e9-466d-bd2f-a2887202a3b0",
   "metadata": {},
   "outputs": [
    {
     "data": {
      "text/plain": [
       "8"
      ]
     },
     "execution_count": 1,
     "metadata": {},
     "output_type": "execute_result"
    }
   ],
   "source": [
    "3+5"
   ]
  },
  {
   "cell_type": "code",
   "execution_count": 2,
   "id": "1a6a9f16-2c1f-4a32-8840-746944e2784d",
   "metadata": {},
   "outputs": [],
   "source": [
    "weight_kg = 60\n"
   ]
  },
  {
   "cell_type": "code",
   "execution_count": 3,
   "id": "06fe0ec7-dccd-45ff-bdf1-2ba03b543646",
   "metadata": {},
   "outputs": [
    {
     "name": "stdout",
     "output_type": "stream",
     "text": [
      "60\n"
     ]
    }
   ],
   "source": [
    "print (weight_kg)\n",
    "\n"
   ]
  },
  {
   "cell_type": "code",
   "execution_count": 6,
   "id": "15f8f7da-7ed9-4d89-b202-a11577b6897c",
   "metadata": {},
   "outputs": [],
   "source": [
    "weight_kg_2 = 60.0"
   ]
  },
  {
   "cell_type": "code",
   "execution_count": 7,
   "id": "eda4a29b-6453-44b1-8309-22ae4c293bb5",
   "metadata": {},
   "outputs": [
    {
     "name": "stdout",
     "output_type": "stream",
     "text": [
      "60.0\n"
     ]
    }
   ],
   "source": [
    "print(weight_kg_2)\n"
   ]
  },
  {
   "cell_type": "code",
   "execution_count": 9,
   "id": "2a621aa8-3d2d-4110-9787-4193102bf85d",
   "metadata": {},
   "outputs": [
    {
     "data": {
      "text/plain": [
       "120.0"
      ]
     },
     "execution_count": 9,
     "metadata": {},
     "output_type": "execute_result"
    }
   ],
   "source": [
    "weight_kg_2 * 2"
   ]
  },
  {
   "cell_type": "code",
   "execution_count": 10,
   "id": "742998fd-289f-4787-9c59-9045016dfb32",
   "metadata": {},
   "outputs": [],
   "source": [
    "weight_txt = \"My weight is:\""
   ]
  },
  {
   "cell_type": "code",
   "execution_count": 11,
   "id": "183511c6-fa71-431d-80f9-4f7ef2af9ede",
   "metadata": {},
   "outputs": [
    {
     "name": "stdout",
     "output_type": "stream",
     "text": [
      "My weight is:\n"
     ]
    }
   ],
   "source": [
    "print(weight_txt)\n"
   ]
  },
  {
   "cell_type": "code",
   "execution_count": 12,
   "id": "09deb018-470e-4b56-b641-952bcd64212e",
   "metadata": {},
   "outputs": [
    {
     "name": "stdout",
     "output_type": "stream",
     "text": [
      "My weight is: 60\n"
     ]
    }
   ],
   "source": [
    "print(weight_txt, weight_kg)"
   ]
  },
  {
   "cell_type": "code",
   "execution_count": 14,
   "id": "1d33fd9d-3569-4fd3-b39e-80cbc3bdbe40",
   "metadata": {},
   "outputs": [
    {
     "data": {
      "text/plain": [
       "'My weight is:this is my other string'"
      ]
     },
     "execution_count": 14,
     "metadata": {},
     "output_type": "execute_result"
    }
   ],
   "source": [
    "banana = \"this is my other string\"\n",
    "weight_txt + banana"
   ]
  },
  {
   "cell_type": "code",
   "execution_count": 15,
   "id": "9b0b0fa2-bf13-4fb2-b24f-7c16c4991731",
   "metadata": {},
   "outputs": [
    {
     "data": {
      "text/plain": [
       "120.0"
      ]
     },
     "execution_count": 15,
     "metadata": {},
     "output_type": "execute_result"
    }
   ],
   "source": [
    "weight_kg + weight_kg_2\n"
   ]
  },
  {
   "cell_type": "code",
   "execution_count": 16,
   "id": "2f2ea34e-aed5-4e50-bc2e-379c56846961",
   "metadata": {},
   "outputs": [
    {
     "name": "stdout",
     "output_type": "stream",
     "text": [
      "h\n"
     ]
    }
   ],
   "source": [
    "message = \"hello\"\n",
    "print(message[0])"
   ]
  },
  {
   "cell_type": "code",
   "execution_count": 18,
   "id": "b194529b-f141-4de7-92db-e5533bacdf90",
   "metadata": {},
   "outputs": [
    {
     "name": "stdout",
     "output_type": "stream",
     "text": [
      "hell\n"
     ]
    }
   ],
   "source": [
    "print(message[0:4])"
   ]
  },
  {
   "cell_type": "code",
   "execution_count": 19,
   "id": "5cc5976c-3fd3-451a-9f0d-033497879f9a",
   "metadata": {},
   "outputs": [
    {
     "name": "stdout",
     "output_type": "stream",
     "text": [
      "120\n"
     ]
    }
   ],
   "source": [
    "weight_double = weight_kg * 2\n",
    "print(weight_double)"
   ]
  },
  {
   "cell_type": "code",
   "execution_count": 20,
   "id": "51b72c4f-d2f8-493f-99e4-32d0c4fcedcc",
   "metadata": {},
   "outputs": [],
   "source": [
    "x = 1.0\n",
    "y = 3.0\n",
    "swap = x\n",
    "x = y\n",
    "y = swap\n"
   ]
  },
  {
   "cell_type": "code",
   "execution_count": 21,
   "id": "dd0e7f6c-a113-4169-b3e5-57382b40ed84",
   "metadata": {},
   "outputs": [
    {
     "name": "stdout",
     "output_type": "stream",
     "text": [
      "1.0 3.0 1.0\n"
     ]
    }
   ],
   "source": [
    "print(y, x, swap)"
   ]
  },
  {
   "cell_type": "code",
   "execution_count": 22,
   "id": "f221a01c-7987-425e-a157-1d3ec51d9aca",
   "metadata": {},
   "outputs": [
    {
     "data": {
      "text/plain": [
       "6"
      ]
     },
     "execution_count": 22,
     "metadata": {},
     "output_type": "execute_result"
    }
   ],
   "source": [
    "max(2, 3, 6)"
   ]
  },
  {
   "cell_type": "code",
   "execution_count": 23,
   "id": "6695e664-2e94-462e-98da-a5dc353423b1",
   "metadata": {},
   "outputs": [
    {
     "data": {
      "text/plain": [
       "2"
      ]
     },
     "execution_count": 23,
     "metadata": {},
     "output_type": "execute_result"
    }
   ],
   "source": [
    "min(2, 3, 6)"
   ]
  },
  {
   "cell_type": "code",
   "execution_count": 24,
   "id": "33b4fe18-dadb-4c6c-a29c-99653dbc79a5",
   "metadata": {},
   "outputs": [
    {
     "data": {
      "text/plain": [
       "int"
      ]
     },
     "execution_count": 24,
     "metadata": {},
     "output_type": "execute_result"
    }
   ],
   "source": [
    "type(weight_kg)"
   ]
  },
  {
   "cell_type": "code",
   "execution_count": 25,
   "id": "50b6bd03-ef31-4500-9e1e-8d6cdf279cc8",
   "metadata": {},
   "outputs": [
    {
     "data": {
      "text/plain": [
       "float"
      ]
     },
     "execution_count": 25,
     "metadata": {},
     "output_type": "execute_result"
    }
   ],
   "source": [
    "type(weight_kg_2)"
   ]
  },
  {
   "cell_type": "code",
   "execution_count": 26,
   "id": "7db64c6f-cdd3-4f05-b5d8-2bfeeabada06",
   "metadata": {},
   "outputs": [
    {
     "name": "stdout",
     "output_type": "stream",
     "text": [
      "2 5\n"
     ]
    }
   ],
   "source": [
    "first = 1\n",
    "second = 5 * first\n",
    "first = 2\n",
    "print(first, second)"
   ]
  },
  {
   "cell_type": "code",
   "execution_count": 28,
   "id": "15f895eb-9d6f-49dc-8789-9df82d033c74",
   "metadata": {},
   "outputs": [
    {
     "data": {
      "text/plain": [
       "'hello'"
      ]
     },
     "execution_count": 28,
     "metadata": {},
     "output_type": "execute_result"
    }
   ],
   "source": [
    "min(\"potato\", \"hello\")"
   ]
  },
  {
   "cell_type": "code",
   "execution_count": 29,
   "id": "131ee056-f4f5-41eb-a246-e0c932905fc0",
   "metadata": {},
   "outputs": [
    {
     "data": {
      "text/plain": [
       "'e'"
      ]
     },
     "execution_count": 29,
     "metadata": {},
     "output_type": "execute_result"
    }
   ],
   "source": [
    "min(\"hello\")"
   ]
  },
  {
   "cell_type": "code",
   "execution_count": 30,
   "id": "90f9b8f9-edd7-4514-b229-dfa0f3ffd317",
   "metadata": {},
   "outputs": [
    {
     "data": {
      "text/plain": [
       "3.1416"
      ]
     },
     "execution_count": 30,
     "metadata": {},
     "output_type": "execute_result"
    }
   ],
   "source": [
    "round(3.141592673, 4)"
   ]
  },
  {
   "cell_type": "code",
   "execution_count": 31,
   "id": "faeca800-9645-4046-8cc6-c587d24ea29f",
   "metadata": {},
   "outputs": [
    {
     "data": {
      "text/plain": [
       "3.1416"
      ]
     },
     "execution_count": 31,
     "metadata": {},
     "output_type": "execute_result"
    }
   ],
   "source": [
    "round(3.141592673, ndigits=4)"
   ]
  },
  {
   "cell_type": "code",
   "execution_count": 32,
   "id": "d6bc77ce-920f-422b-9df6-4208c225fb20",
   "metadata": {},
   "outputs": [
    {
     "name": "stdout",
     "output_type": "stream",
     "text": [
      "example\n",
      "None\n"
     ]
    }
   ],
   "source": [
    "result = print(\"example\")\n",
    "print(result)"
   ]
  },
  {
   "cell_type": "code",
   "execution_count": 34,
   "id": "aa0fd55c-1e69-4378-9a73-5e5fbaa8e87d",
   "metadata": {},
   "outputs": [
    {
     "data": {
      "text/plain": [
       "5"
      ]
     },
     "execution_count": 34,
     "metadata": {},
     "output_type": "execute_result"
    }
   ],
   "source": [
    "len(\"hello\")"
   ]
  },
  {
   "cell_type": "code",
   "execution_count": 35,
   "id": "87eaf4d3-4d50-4e80-a755-30d47cbbb77f",
   "metadata": {},
   "outputs": [
    {
     "name": "stdout",
     "output_type": "stream",
     "text": [
      "hello [4]\n"
     ]
    }
   ],
   "source": [
    "print(\"hello\", [4])\n"
   ]
  },
  {
   "cell_type": "code",
   "execution_count": 48,
   "id": "b5f406a8-39d6-432f-9dd9-066114584efe",
   "metadata": {},
   "outputs": [
    {
     "data": {
      "text/plain": [
       "'e'"
      ]
     },
     "execution_count": 48,
     "metadata": {},
     "output_type": "execute_result"
    }
   ],
   "source": [
    "name_string = \"name\"\n",
    "name_string[len(name_string) - 1]\n"
   ]
  },
  {
   "cell_type": "code",
   "execution_count": 49,
   "id": "53dbb25b-1ecd-486c-b7f9-4738b32bc762",
   "metadata": {},
   "outputs": [
    {
     "data": {
      "text/plain": [
       "'e'"
      ]
     },
     "execution_count": 49,
     "metadata": {},
     "output_type": "execute_result"
    }
   ],
   "source": [
    "name_string[-1]"
   ]
  },
  {
   "cell_type": "code",
   "execution_count": 50,
   "id": "09f23e07-651e-4209-85fe-df2f57d9466e",
   "metadata": {},
   "outputs": [],
   "source": [
    "import math"
   ]
  },
  {
   "cell_type": "code",
   "execution_count": 51,
   "id": "b1625cff-c9ef-434a-962a-b29cc78c9648",
   "metadata": {},
   "outputs": [
    {
     "name": "stdout",
     "output_type": "stream",
     "text": [
      "3.141592653589793\n"
     ]
    }
   ],
   "source": [
    "print(math.pi)\n"
   ]
  },
  {
   "cell_type": "code",
   "execution_count": 52,
   "id": "bdbea963-ddfe-44bb-96f6-efe75f98b2a6",
   "metadata": {},
   "outputs": [
    {
     "data": {
      "text/plain": [
       "-1.0"
      ]
     },
     "execution_count": 52,
     "metadata": {},
     "output_type": "execute_result"
    }
   ],
   "source": [
    "math.cos(math.pi)\n"
   ]
  },
  {
   "cell_type": "code",
   "execution_count": 55,
   "id": "587d3a50-ecf7-4fa1-b639-da314c77c559",
   "metadata": {},
   "outputs": [
    {
     "data": {
      "text/plain": [
       "1.2246467991473532e-16"
      ]
     },
     "execution_count": 55,
     "metadata": {},
     "output_type": "execute_result"
    }
   ],
   "source": [
    "from math import sin\n",
    "sin (math.pi)\n"
   ]
  },
  {
   "cell_type": "code",
   "execution_count": 56,
   "id": "e9ea996c-4325-41cb-98a4-102881046fd5",
   "metadata": {},
   "outputs": [
    {
     "name": "stdout",
     "output_type": "stream",
     "text": [
      "Help on module math:\n",
      "\n",
      "NAME\n",
      "    math\n",
      "\n",
      "MODULE REFERENCE\n",
      "    https://docs.python.org/3.8/library/math\n",
      "    \n",
      "    The following documentation is automatically generated from the Python\n",
      "    source files.  It may be incomplete, incorrect or include features that\n",
      "    are considered implementation detail and may vary between Python\n",
      "    implementations.  When in doubt, consult the module reference at the\n",
      "    location listed above.\n",
      "\n",
      "DESCRIPTION\n",
      "    This module provides access to the mathematical functions\n",
      "    defined by the C standard.\n",
      "\n",
      "FUNCTIONS\n",
      "    acos(x, /)\n",
      "        Return the arc cosine (measured in radians) of x.\n",
      "    \n",
      "    acosh(x, /)\n",
      "        Return the inverse hyperbolic cosine of x.\n",
      "    \n",
      "    asin(x, /)\n",
      "        Return the arc sine (measured in radians) of x.\n",
      "    \n",
      "    asinh(x, /)\n",
      "        Return the inverse hyperbolic sine of x.\n",
      "    \n",
      "    atan(x, /)\n",
      "        Return the arc tangent (measured in radians) of x.\n",
      "    \n",
      "    atan2(y, x, /)\n",
      "        Return the arc tangent (measured in radians) of y/x.\n",
      "        \n",
      "        Unlike atan(y/x), the signs of both x and y are considered.\n",
      "    \n",
      "    atanh(x, /)\n",
      "        Return the inverse hyperbolic tangent of x.\n",
      "    \n",
      "    ceil(x, /)\n",
      "        Return the ceiling of x as an Integral.\n",
      "        \n",
      "        This is the smallest integer >= x.\n",
      "    \n",
      "    comb(n, k, /)\n",
      "        Number of ways to choose k items from n items without repetition and without order.\n",
      "        \n",
      "        Evaluates to n! / (k! * (n - k)!) when k <= n and evaluates\n",
      "        to zero when k > n.\n",
      "        \n",
      "        Also called the binomial coefficient because it is equivalent\n",
      "        to the coefficient of k-th term in polynomial expansion of the\n",
      "        expression (1 + x)**n.\n",
      "        \n",
      "        Raises TypeError if either of the arguments are not integers.\n",
      "        Raises ValueError if either of the arguments are negative.\n",
      "    \n",
      "    copysign(x, y, /)\n",
      "        Return a float with the magnitude (absolute value) of x but the sign of y.\n",
      "        \n",
      "        On platforms that support signed zeros, copysign(1.0, -0.0)\n",
      "        returns -1.0.\n",
      "    \n",
      "    cos(x, /)\n",
      "        Return the cosine of x (measured in radians).\n",
      "    \n",
      "    cosh(x, /)\n",
      "        Return the hyperbolic cosine of x.\n",
      "    \n",
      "    degrees(x, /)\n",
      "        Convert angle x from radians to degrees.\n",
      "    \n",
      "    dist(p, q, /)\n",
      "        Return the Euclidean distance between two points p and q.\n",
      "        \n",
      "        The points should be specified as sequences (or iterables) of\n",
      "        coordinates.  Both inputs must have the same dimension.\n",
      "        \n",
      "        Roughly equivalent to:\n",
      "            sqrt(sum((px - qx) ** 2.0 for px, qx in zip(p, q)))\n",
      "    \n",
      "    erf(x, /)\n",
      "        Error function at x.\n",
      "    \n",
      "    erfc(x, /)\n",
      "        Complementary error function at x.\n",
      "    \n",
      "    exp(x, /)\n",
      "        Return e raised to the power of x.\n",
      "    \n",
      "    expm1(x, /)\n",
      "        Return exp(x)-1.\n",
      "        \n",
      "        This function avoids the loss of precision involved in the direct evaluation of exp(x)-1 for small x.\n",
      "    \n",
      "    fabs(x, /)\n",
      "        Return the absolute value of the float x.\n",
      "    \n",
      "    factorial(x, /)\n",
      "        Find x!.\n",
      "        \n",
      "        Raise a ValueError if x is negative or non-integral.\n",
      "    \n",
      "    floor(x, /)\n",
      "        Return the floor of x as an Integral.\n",
      "        \n",
      "        This is the largest integer <= x.\n",
      "    \n",
      "    fmod(x, y, /)\n",
      "        Return fmod(x, y), according to platform C.\n",
      "        \n",
      "        x % y may differ.\n",
      "    \n",
      "    frexp(x, /)\n",
      "        Return the mantissa and exponent of x, as pair (m, e).\n",
      "        \n",
      "        m is a float and e is an int, such that x = m * 2.**e.\n",
      "        If x is 0, m and e are both 0.  Else 0.5 <= abs(m) < 1.0.\n",
      "    \n",
      "    fsum(seq, /)\n",
      "        Return an accurate floating point sum of values in the iterable seq.\n",
      "        \n",
      "        Assumes IEEE-754 floating point arithmetic.\n",
      "    \n",
      "    gamma(x, /)\n",
      "        Gamma function at x.\n",
      "    \n",
      "    gcd(x, y, /)\n",
      "        greatest common divisor of x and y\n",
      "    \n",
      "    hypot(...)\n",
      "        hypot(*coordinates) -> value\n",
      "        \n",
      "        Multidimensional Euclidean distance from the origin to a point.\n",
      "        \n",
      "        Roughly equivalent to:\n",
      "            sqrt(sum(x**2 for x in coordinates))\n",
      "        \n",
      "        For a two dimensional point (x, y), gives the hypotenuse\n",
      "        using the Pythagorean theorem:  sqrt(x*x + y*y).\n",
      "        \n",
      "        For example, the hypotenuse of a 3/4/5 right triangle is:\n",
      "        \n",
      "            >>> hypot(3.0, 4.0)\n",
      "            5.0\n",
      "    \n",
      "    isclose(a, b, *, rel_tol=1e-09, abs_tol=0.0)\n",
      "        Determine whether two floating point numbers are close in value.\n",
      "        \n",
      "          rel_tol\n",
      "            maximum difference for being considered \"close\", relative to the\n",
      "            magnitude of the input values\n",
      "          abs_tol\n",
      "            maximum difference for being considered \"close\", regardless of the\n",
      "            magnitude of the input values\n",
      "        \n",
      "        Return True if a is close in value to b, and False otherwise.\n",
      "        \n",
      "        For the values to be considered close, the difference between them\n",
      "        must be smaller than at least one of the tolerances.\n",
      "        \n",
      "        -inf, inf and NaN behave similarly to the IEEE 754 Standard.  That\n",
      "        is, NaN is not close to anything, even itself.  inf and -inf are\n",
      "        only close to themselves.\n",
      "    \n",
      "    isfinite(x, /)\n",
      "        Return True if x is neither an infinity nor a NaN, and False otherwise.\n",
      "    \n",
      "    isinf(x, /)\n",
      "        Return True if x is a positive or negative infinity, and False otherwise.\n",
      "    \n",
      "    isnan(x, /)\n",
      "        Return True if x is a NaN (not a number), and False otherwise.\n",
      "    \n",
      "    isqrt(n, /)\n",
      "        Return the integer part of the square root of the input.\n",
      "    \n",
      "    ldexp(x, i, /)\n",
      "        Return x * (2**i).\n",
      "        \n",
      "        This is essentially the inverse of frexp().\n",
      "    \n",
      "    lgamma(x, /)\n",
      "        Natural logarithm of absolute value of Gamma function at x.\n",
      "    \n",
      "    log(...)\n",
      "        log(x, [base=math.e])\n",
      "        Return the logarithm of x to the given base.\n",
      "        \n",
      "        If the base not specified, returns the natural logarithm (base e) of x.\n",
      "    \n",
      "    log10(x, /)\n",
      "        Return the base 10 logarithm of x.\n",
      "    \n",
      "    log1p(x, /)\n",
      "        Return the natural logarithm of 1+x (base e).\n",
      "        \n",
      "        The result is computed in a way which is accurate for x near zero.\n",
      "    \n",
      "    log2(x, /)\n",
      "        Return the base 2 logarithm of x.\n",
      "    \n",
      "    modf(x, /)\n",
      "        Return the fractional and integer parts of x.\n",
      "        \n",
      "        Both results carry the sign of x and are floats.\n",
      "    \n",
      "    perm(n, k=None, /)\n",
      "        Number of ways to choose k items from n items without repetition and with order.\n",
      "        \n",
      "        Evaluates to n! / (n - k)! when k <= n and evaluates\n",
      "        to zero when k > n.\n",
      "        \n",
      "        If k is not specified or is None, then k defaults to n\n",
      "        and the function returns n!.\n",
      "        \n",
      "        Raises TypeError if either of the arguments are not integers.\n",
      "        Raises ValueError if either of the arguments are negative.\n",
      "    \n",
      "    pow(x, y, /)\n",
      "        Return x**y (x to the power of y).\n",
      "    \n",
      "    prod(iterable, /, *, start=1)\n",
      "        Calculate the product of all the elements in the input iterable.\n",
      "        \n",
      "        The default start value for the product is 1.\n",
      "        \n",
      "        When the iterable is empty, return the start value.  This function is\n",
      "        intended specifically for use with numeric values and may reject\n",
      "        non-numeric types.\n",
      "    \n",
      "    radians(x, /)\n",
      "        Convert angle x from degrees to radians.\n",
      "    \n",
      "    remainder(x, y, /)\n",
      "        Difference between x and the closest integer multiple of y.\n",
      "        \n",
      "        Return x - n*y where n*y is the closest integer multiple of y.\n",
      "        In the case where x is exactly halfway between two multiples of\n",
      "        y, the nearest even value of n is used. The result is always exact.\n",
      "    \n",
      "    sin(x, /)\n",
      "        Return the sine of x (measured in radians).\n",
      "    \n",
      "    sinh(x, /)\n",
      "        Return the hyperbolic sine of x.\n",
      "    \n",
      "    sqrt(x, /)\n",
      "        Return the square root of x.\n",
      "    \n",
      "    tan(x, /)\n",
      "        Return the tangent of x (measured in radians).\n",
      "    \n",
      "    tanh(x, /)\n",
      "        Return the hyperbolic tangent of x.\n",
      "    \n",
      "    trunc(x, /)\n",
      "        Truncates the Real x to the nearest Integral toward 0.\n",
      "        \n",
      "        Uses the __trunc__ magic method.\n",
      "\n",
      "DATA\n",
      "    e = 2.718281828459045\n",
      "    inf = inf\n",
      "    nan = nan\n",
      "    pi = 3.141592653589793\n",
      "    tau = 6.283185307179586\n",
      "\n",
      "FILE\n",
      "    /Applications/anaconda3/lib/python3.8/lib-dynload/math.cpython-38-darwin.so\n",
      "\n",
      "\n"
     ]
    }
   ],
   "source": [
    "help(math)\n"
   ]
  },
  {
   "cell_type": "code",
   "execution_count": 57,
   "id": "435f3c79-f87d-4ff3-bcbf-fc41b3f3e6ab",
   "metadata": {},
   "outputs": [
    {
     "name": "stdout",
     "output_type": "stream",
     "text": [
      "<module 'math' from '/Applications/anaconda3/lib/python3.8/lib-dynload/math.cpython-38-darwin.so'>\n"
     ]
    }
   ],
   "source": [
    "print(math)\n"
   ]
  },
  {
   "cell_type": "code",
   "execution_count": 58,
   "id": "8d0cb2f2-a9fa-4408-807b-45b044855cb9",
   "metadata": {},
   "outputs": [
    {
     "data": {
      "text/plain": [
       "1.4142135623730951"
      ]
     },
     "execution_count": 58,
     "metadata": {},
     "output_type": "execute_result"
    }
   ],
   "source": [
    "pow (2, 0.5)"
   ]
  },
  {
   "cell_type": "code",
   "execution_count": 61,
   "id": "7aa29a54-f1b8-4c00-850e-8867ab208e96",
   "metadata": {},
   "outputs": [
    {
     "data": {
      "text/plain": [
       "1.4142135623730951"
      ]
     },
     "execution_count": 61,
     "metadata": {},
     "output_type": "execute_result"
    }
   ],
   "source": [
    "math.sqrt (2)"
   ]
  },
  {
   "cell_type": "code",
   "execution_count": 68,
   "id": "2ef618c9-6b3e-4b53-833b-464b6719f172",
   "metadata": {},
   "outputs": [],
   "source": [
    "bases = \"ACTTGCTTGAC\""
   ]
  },
  {
   "cell_type": "code",
   "execution_count": 63,
   "id": "4ee5fc4f-3da0-49e4-8e7b-bbae541d7194",
   "metadata": {},
   "outputs": [
    {
     "ename": "NameError",
     "evalue": "name 'random' is not defined",
     "output_type": "error",
     "traceback": [
      "\u001b[0;31m---------------------------------------------------------------------------\u001b[0m",
      "\u001b[0;31mNameError\u001b[0m                                 Traceback (most recent call last)",
      "\u001b[0;32m<ipython-input-63-b272b36fabcc>\u001b[0m in \u001b[0;36m<module>\u001b[0;34m\u001b[0m\n\u001b[0;32m----> 1\u001b[0;31m \u001b[0mhelp\u001b[0m\u001b[0;34m(\u001b[0m\u001b[0mrandom\u001b[0m\u001b[0;34m)\u001b[0m\u001b[0;34m\u001b[0m\u001b[0;34m\u001b[0m\u001b[0m\n\u001b[0m",
      "\u001b[0;31mNameError\u001b[0m: name 'random' is not defined"
     ]
    }
   ],
   "source": [
    "help(random)"
   ]
  },
  {
   "cell_type": "code",
   "execution_count": 64,
   "id": "b8acf694-8cab-4650-b1d0-c9966e7796b8",
   "metadata": {},
   "outputs": [
    {
     "name": "stdout",
     "output_type": "stream",
     "text": [
      "Help on module random:\n",
      "\n",
      "NAME\n",
      "    random - Random variable generators.\n",
      "\n",
      "MODULE REFERENCE\n",
      "    https://docs.python.org/3.8/library/random\n",
      "    \n",
      "    The following documentation is automatically generated from the Python\n",
      "    source files.  It may be incomplete, incorrect or include features that\n",
      "    are considered implementation detail and may vary between Python\n",
      "    implementations.  When in doubt, consult the module reference at the\n",
      "    location listed above.\n",
      "\n",
      "DESCRIPTION\n",
      "        integers\n",
      "        --------\n",
      "               uniform within range\n",
      "    \n",
      "        sequences\n",
      "        ---------\n",
      "               pick random element\n",
      "               pick random sample\n",
      "               pick weighted random sample\n",
      "               generate random permutation\n",
      "    \n",
      "        distributions on the real line:\n",
      "        ------------------------------\n",
      "               uniform\n",
      "               triangular\n",
      "               normal (Gaussian)\n",
      "               lognormal\n",
      "               negative exponential\n",
      "               gamma\n",
      "               beta\n",
      "               pareto\n",
      "               Weibull\n",
      "    \n",
      "        distributions on the circle (angles 0 to 2pi)\n",
      "        ---------------------------------------------\n",
      "               circular uniform\n",
      "               von Mises\n",
      "    \n",
      "    General notes on the underlying Mersenne Twister core generator:\n",
      "    \n",
      "    * The period is 2**19937-1.\n",
      "    * It is one of the most extensively tested generators in existence.\n",
      "    * The random() method is implemented in C, executes in a single Python step,\n",
      "      and is, therefore, threadsafe.\n",
      "\n",
      "CLASSES\n",
      "    _random.Random(builtins.object)\n",
      "        Random\n",
      "            SystemRandom\n",
      "    \n",
      "    class Random(_random.Random)\n",
      "     |  Random(x=None)\n",
      "     |  \n",
      "     |  Random number generator base class used by bound module functions.\n",
      "     |  \n",
      "     |  Used to instantiate instances of Random to get generators that don't\n",
      "     |  share state.\n",
      "     |  \n",
      "     |  Class Random can also be subclassed if you want to use a different basic\n",
      "     |  generator of your own devising: in that case, override the following\n",
      "     |  methods:  random(), seed(), getstate(), and setstate().\n",
      "     |  Optionally, implement a getrandbits() method so that randrange()\n",
      "     |  can cover arbitrarily large ranges.\n",
      "     |  \n",
      "     |  Method resolution order:\n",
      "     |      Random\n",
      "     |      _random.Random\n",
      "     |      builtins.object\n",
      "     |  \n",
      "     |  Methods defined here:\n",
      "     |  \n",
      "     |  __getstate__(self)\n",
      "     |      # Issue 17489: Since __reduce__ was defined to fix #759889 this is no\n",
      "     |      # longer called; we leave it here because it has been here since random was\n",
      "     |      # rewritten back in 2001 and why risk breaking something.\n",
      "     |  \n",
      "     |  __init__(self, x=None)\n",
      "     |      Initialize an instance.\n",
      "     |      \n",
      "     |      Optional argument x controls seeding, as for Random.seed().\n",
      "     |  \n",
      "     |  __reduce__(self)\n",
      "     |      Helper for pickle.\n",
      "     |  \n",
      "     |  __setstate__(self, state)\n",
      "     |  \n",
      "     |  betavariate(self, alpha, beta)\n",
      "     |      Beta distribution.\n",
      "     |      \n",
      "     |      Conditions on the parameters are alpha > 0 and beta > 0.\n",
      "     |      Returned values range between 0 and 1.\n",
      "     |  \n",
      "     |  choice(self, seq)\n",
      "     |      Choose a random element from a non-empty sequence.\n",
      "     |  \n",
      "     |  choices(self, population, weights=None, *, cum_weights=None, k=1)\n",
      "     |      Return a k sized list of population elements chosen with replacement.\n",
      "     |      \n",
      "     |      If the relative weights or cumulative weights are not specified,\n",
      "     |      the selections are made with equal probability.\n",
      "     |  \n",
      "     |  expovariate(self, lambd)\n",
      "     |      Exponential distribution.\n",
      "     |      \n",
      "     |      lambd is 1.0 divided by the desired mean.  It should be\n",
      "     |      nonzero.  (The parameter would be called \"lambda\", but that is\n",
      "     |      a reserved word in Python.)  Returned values range from 0 to\n",
      "     |      positive infinity if lambd is positive, and from negative\n",
      "     |      infinity to 0 if lambd is negative.\n",
      "     |  \n",
      "     |  gammavariate(self, alpha, beta)\n",
      "     |      Gamma distribution.  Not the gamma function!\n",
      "     |      \n",
      "     |      Conditions on the parameters are alpha > 0 and beta > 0.\n",
      "     |      \n",
      "     |      The probability distribution function is:\n",
      "     |      \n",
      "     |                  x ** (alpha - 1) * math.exp(-x / beta)\n",
      "     |        pdf(x) =  --------------------------------------\n",
      "     |                    math.gamma(alpha) * beta ** alpha\n",
      "     |  \n",
      "     |  gauss(self, mu, sigma)\n",
      "     |      Gaussian distribution.\n",
      "     |      \n",
      "     |      mu is the mean, and sigma is the standard deviation.  This is\n",
      "     |      slightly faster than the normalvariate() function.\n",
      "     |      \n",
      "     |      Not thread-safe without a lock around calls.\n",
      "     |  \n",
      "     |  getstate(self)\n",
      "     |      Return internal state; can be passed to setstate() later.\n",
      "     |  \n",
      "     |  lognormvariate(self, mu, sigma)\n",
      "     |      Log normal distribution.\n",
      "     |      \n",
      "     |      If you take the natural logarithm of this distribution, you'll get a\n",
      "     |      normal distribution with mean mu and standard deviation sigma.\n",
      "     |      mu can have any value, and sigma must be greater than zero.\n",
      "     |  \n",
      "     |  normalvariate(self, mu, sigma)\n",
      "     |      Normal distribution.\n",
      "     |      \n",
      "     |      mu is the mean, and sigma is the standard deviation.\n",
      "     |  \n",
      "     |  paretovariate(self, alpha)\n",
      "     |      Pareto distribution.  alpha is the shape parameter.\n",
      "     |  \n",
      "     |  randint(self, a, b)\n",
      "     |      Return random integer in range [a, b], including both end points.\n",
      "     |  \n",
      "     |  randrange(self, start, stop=None, step=1, _int=<class 'int'>)\n",
      "     |      Choose a random item from range(start, stop[, step]).\n",
      "     |      \n",
      "     |      This fixes the problem with randint() which includes the\n",
      "     |      endpoint; in Python this is usually not what you want.\n",
      "     |  \n",
      "     |  sample(self, population, k)\n",
      "     |      Chooses k unique random elements from a population sequence or set.\n",
      "     |      \n",
      "     |      Returns a new list containing elements from the population while\n",
      "     |      leaving the original population unchanged.  The resulting list is\n",
      "     |      in selection order so that all sub-slices will also be valid random\n",
      "     |      samples.  This allows raffle winners (the sample) to be partitioned\n",
      "     |      into grand prize and second place winners (the subslices).\n",
      "     |      \n",
      "     |      Members of the population need not be hashable or unique.  If the\n",
      "     |      population contains repeats, then each occurrence is a possible\n",
      "     |      selection in the sample.\n",
      "     |      \n",
      "     |      To choose a sample in a range of integers, use range as an argument.\n",
      "     |      This is especially fast and space efficient for sampling from a\n",
      "     |      large population:   sample(range(10000000), 60)\n",
      "     |  \n",
      "     |  seed(self, a=None, version=2)\n",
      "     |      Initialize internal state from hashable object.\n",
      "     |      \n",
      "     |      None or no argument seeds from current time or from an operating\n",
      "     |      system specific randomness source if available.\n",
      "     |      \n",
      "     |      If *a* is an int, all bits are used.\n",
      "     |      \n",
      "     |      For version 2 (the default), all of the bits are used if *a* is a str,\n",
      "     |      bytes, or bytearray.  For version 1 (provided for reproducing random\n",
      "     |      sequences from older versions of Python), the algorithm for str and\n",
      "     |      bytes generates a narrower range of seeds.\n",
      "     |  \n",
      "     |  setstate(self, state)\n",
      "     |      Restore internal state from object returned by getstate().\n",
      "     |  \n",
      "     |  shuffle(self, x, random=None)\n",
      "     |      Shuffle list x in place, and return None.\n",
      "     |      \n",
      "     |      Optional argument random is a 0-argument function returning a\n",
      "     |      random float in [0.0, 1.0); if it is the default None, the\n",
      "     |      standard random.random will be used.\n",
      "     |  \n",
      "     |  triangular(self, low=0.0, high=1.0, mode=None)\n",
      "     |      Triangular distribution.\n",
      "     |      \n",
      "     |      Continuous distribution bounded by given lower and upper limits,\n",
      "     |      and having a given mode value in-between.\n",
      "     |      \n",
      "     |      http://en.wikipedia.org/wiki/Triangular_distribution\n",
      "     |  \n",
      "     |  uniform(self, a, b)\n",
      "     |      Get a random number in the range [a, b) or [a, b] depending on rounding.\n",
      "     |  \n",
      "     |  vonmisesvariate(self, mu, kappa)\n",
      "     |      Circular data distribution.\n",
      "     |      \n",
      "     |      mu is the mean angle, expressed in radians between 0 and 2*pi, and\n",
      "     |      kappa is the concentration parameter, which must be greater than or\n",
      "     |      equal to zero.  If kappa is equal to zero, this distribution reduces\n",
      "     |      to a uniform random angle over the range 0 to 2*pi.\n",
      "     |  \n",
      "     |  weibullvariate(self, alpha, beta)\n",
      "     |      Weibull distribution.\n",
      "     |      \n",
      "     |      alpha is the scale parameter and beta is the shape parameter.\n",
      "     |  \n",
      "     |  ----------------------------------------------------------------------\n",
      "     |  Class methods defined here:\n",
      "     |  \n",
      "     |  __init_subclass__(**kwargs) from builtins.type\n",
      "     |      Control how subclasses generate random integers.\n",
      "     |      \n",
      "     |      The algorithm a subclass can use depends on the random() and/or\n",
      "     |      getrandbits() implementation available to it and determines\n",
      "     |      whether it can generate random integers from arbitrarily large\n",
      "     |      ranges.\n",
      "     |  \n",
      "     |  ----------------------------------------------------------------------\n",
      "     |  Data descriptors defined here:\n",
      "     |  \n",
      "     |  __dict__\n",
      "     |      dictionary for instance variables (if defined)\n",
      "     |  \n",
      "     |  __weakref__\n",
      "     |      list of weak references to the object (if defined)\n",
      "     |  \n",
      "     |  ----------------------------------------------------------------------\n",
      "     |  Data and other attributes defined here:\n",
      "     |  \n",
      "     |  VERSION = 3\n",
      "     |  \n",
      "     |  ----------------------------------------------------------------------\n",
      "     |  Methods inherited from _random.Random:\n",
      "     |  \n",
      "     |  __getattribute__(self, name, /)\n",
      "     |      Return getattr(self, name).\n",
      "     |  \n",
      "     |  getrandbits(self, k, /)\n",
      "     |      getrandbits(k) -> x.  Generates an int with k random bits.\n",
      "     |  \n",
      "     |  random(self, /)\n",
      "     |      random() -> x in the interval [0, 1).\n",
      "     |  \n",
      "     |  ----------------------------------------------------------------------\n",
      "     |  Static methods inherited from _random.Random:\n",
      "     |  \n",
      "     |  __new__(*args, **kwargs) from builtins.type\n",
      "     |      Create and return a new object.  See help(type) for accurate signature.\n",
      "    \n",
      "    class SystemRandom(Random)\n",
      "     |  SystemRandom(x=None)\n",
      "     |  \n",
      "     |  Alternate random number generator using sources provided\n",
      "     |  by the operating system (such as /dev/urandom on Unix or\n",
      "     |  CryptGenRandom on Windows).\n",
      "     |  \n",
      "     |   Not available on all systems (see os.urandom() for details).\n",
      "     |  \n",
      "     |  Method resolution order:\n",
      "     |      SystemRandom\n",
      "     |      Random\n",
      "     |      _random.Random\n",
      "     |      builtins.object\n",
      "     |  \n",
      "     |  Methods defined here:\n",
      "     |  \n",
      "     |  getrandbits(self, k)\n",
      "     |      getrandbits(k) -> x.  Generates an int with k random bits.\n",
      "     |  \n",
      "     |  getstate = _notimplemented(self, *args, **kwds)\n",
      "     |  \n",
      "     |  random(self)\n",
      "     |      Get the next random number in the range [0.0, 1.0).\n",
      "     |  \n",
      "     |  seed(self, *args, **kwds)\n",
      "     |      Stub method.  Not used for a system random number generator.\n",
      "     |  \n",
      "     |  setstate = _notimplemented(self, *args, **kwds)\n",
      "     |  \n",
      "     |  ----------------------------------------------------------------------\n",
      "     |  Methods inherited from Random:\n",
      "     |  \n",
      "     |  __getstate__(self)\n",
      "     |      # Issue 17489: Since __reduce__ was defined to fix #759889 this is no\n",
      "     |      # longer called; we leave it here because it has been here since random was\n",
      "     |      # rewritten back in 2001 and why risk breaking something.\n",
      "     |  \n",
      "     |  __init__(self, x=None)\n",
      "     |      Initialize an instance.\n",
      "     |      \n",
      "     |      Optional argument x controls seeding, as for Random.seed().\n",
      "     |  \n",
      "     |  __reduce__(self)\n",
      "     |      Helper for pickle.\n",
      "     |  \n",
      "     |  __setstate__(self, state)\n",
      "     |  \n",
      "     |  betavariate(self, alpha, beta)\n",
      "     |      Beta distribution.\n",
      "     |      \n",
      "     |      Conditions on the parameters are alpha > 0 and beta > 0.\n",
      "     |      Returned values range between 0 and 1.\n",
      "     |  \n",
      "     |  choice(self, seq)\n",
      "     |      Choose a random element from a non-empty sequence.\n",
      "     |  \n",
      "     |  choices(self, population, weights=None, *, cum_weights=None, k=1)\n",
      "     |      Return a k sized list of population elements chosen with replacement.\n",
      "     |      \n",
      "     |      If the relative weights or cumulative weights are not specified,\n",
      "     |      the selections are made with equal probability.\n",
      "     |  \n",
      "     |  expovariate(self, lambd)\n",
      "     |      Exponential distribution.\n",
      "     |      \n",
      "     |      lambd is 1.0 divided by the desired mean.  It should be\n",
      "     |      nonzero.  (The parameter would be called \"lambda\", but that is\n",
      "     |      a reserved word in Python.)  Returned values range from 0 to\n",
      "     |      positive infinity if lambd is positive, and from negative\n",
      "     |      infinity to 0 if lambd is negative.\n",
      "     |  \n",
      "     |  gammavariate(self, alpha, beta)\n",
      "     |      Gamma distribution.  Not the gamma function!\n",
      "     |      \n",
      "     |      Conditions on the parameters are alpha > 0 and beta > 0.\n",
      "     |      \n",
      "     |      The probability distribution function is:\n",
      "     |      \n",
      "     |                  x ** (alpha - 1) * math.exp(-x / beta)\n",
      "     |        pdf(x) =  --------------------------------------\n",
      "     |                    math.gamma(alpha) * beta ** alpha\n",
      "     |  \n",
      "     |  gauss(self, mu, sigma)\n",
      "     |      Gaussian distribution.\n",
      "     |      \n",
      "     |      mu is the mean, and sigma is the standard deviation.  This is\n",
      "     |      slightly faster than the normalvariate() function.\n",
      "     |      \n",
      "     |      Not thread-safe without a lock around calls.\n",
      "     |  \n",
      "     |  lognormvariate(self, mu, sigma)\n",
      "     |      Log normal distribution.\n",
      "     |      \n",
      "     |      If you take the natural logarithm of this distribution, you'll get a\n",
      "     |      normal distribution with mean mu and standard deviation sigma.\n",
      "     |      mu can have any value, and sigma must be greater than zero.\n",
      "     |  \n",
      "     |  normalvariate(self, mu, sigma)\n",
      "     |      Normal distribution.\n",
      "     |      \n",
      "     |      mu is the mean, and sigma is the standard deviation.\n",
      "     |  \n",
      "     |  paretovariate(self, alpha)\n",
      "     |      Pareto distribution.  alpha is the shape parameter.\n",
      "     |  \n",
      "     |  randint(self, a, b)\n",
      "     |      Return random integer in range [a, b], including both end points.\n",
      "     |  \n",
      "     |  randrange(self, start, stop=None, step=1, _int=<class 'int'>)\n",
      "     |      Choose a random item from range(start, stop[, step]).\n",
      "     |      \n",
      "     |      This fixes the problem with randint() which includes the\n",
      "     |      endpoint; in Python this is usually not what you want.\n",
      "     |  \n",
      "     |  sample(self, population, k)\n",
      "     |      Chooses k unique random elements from a population sequence or set.\n",
      "     |      \n",
      "     |      Returns a new list containing elements from the population while\n",
      "     |      leaving the original population unchanged.  The resulting list is\n",
      "     |      in selection order so that all sub-slices will also be valid random\n",
      "     |      samples.  This allows raffle winners (the sample) to be partitioned\n",
      "     |      into grand prize and second place winners (the subslices).\n",
      "     |      \n",
      "     |      Members of the population need not be hashable or unique.  If the\n",
      "     |      population contains repeats, then each occurrence is a possible\n",
      "     |      selection in the sample.\n",
      "     |      \n",
      "     |      To choose a sample in a range of integers, use range as an argument.\n",
      "     |      This is especially fast and space efficient for sampling from a\n",
      "     |      large population:   sample(range(10000000), 60)\n",
      "     |  \n",
      "     |  shuffle(self, x, random=None)\n",
      "     |      Shuffle list x in place, and return None.\n",
      "     |      \n",
      "     |      Optional argument random is a 0-argument function returning a\n",
      "     |      random float in [0.0, 1.0); if it is the default None, the\n",
      "     |      standard random.random will be used.\n",
      "     |  \n",
      "     |  triangular(self, low=0.0, high=1.0, mode=None)\n",
      "     |      Triangular distribution.\n",
      "     |      \n",
      "     |      Continuous distribution bounded by given lower and upper limits,\n",
      "     |      and having a given mode value in-between.\n",
      "     |      \n",
      "     |      http://en.wikipedia.org/wiki/Triangular_distribution\n",
      "     |  \n",
      "     |  uniform(self, a, b)\n",
      "     |      Get a random number in the range [a, b) or [a, b] depending on rounding.\n",
      "     |  \n",
      "     |  vonmisesvariate(self, mu, kappa)\n",
      "     |      Circular data distribution.\n",
      "     |      \n",
      "     |      mu is the mean angle, expressed in radians between 0 and 2*pi, and\n",
      "     |      kappa is the concentration parameter, which must be greater than or\n",
      "     |      equal to zero.  If kappa is equal to zero, this distribution reduces\n",
      "     |      to a uniform random angle over the range 0 to 2*pi.\n",
      "     |  \n",
      "     |  weibullvariate(self, alpha, beta)\n",
      "     |      Weibull distribution.\n",
      "     |      \n",
      "     |      alpha is the scale parameter and beta is the shape parameter.\n",
      "     |  \n",
      "     |  ----------------------------------------------------------------------\n",
      "     |  Class methods inherited from Random:\n",
      "     |  \n",
      "     |  __init_subclass__(**kwargs) from builtins.type\n",
      "     |      Control how subclasses generate random integers.\n",
      "     |      \n",
      "     |      The algorithm a subclass can use depends on the random() and/or\n",
      "     |      getrandbits() implementation available to it and determines\n",
      "     |      whether it can generate random integers from arbitrarily large\n",
      "     |      ranges.\n",
      "     |  \n",
      "     |  ----------------------------------------------------------------------\n",
      "     |  Data descriptors inherited from Random:\n",
      "     |  \n",
      "     |  __dict__\n",
      "     |      dictionary for instance variables (if defined)\n",
      "     |  \n",
      "     |  __weakref__\n",
      "     |      list of weak references to the object (if defined)\n",
      "     |  \n",
      "     |  ----------------------------------------------------------------------\n",
      "     |  Data and other attributes inherited from Random:\n",
      "     |  \n",
      "     |  VERSION = 3\n",
      "     |  \n",
      "     |  ----------------------------------------------------------------------\n",
      "     |  Methods inherited from _random.Random:\n",
      "     |  \n",
      "     |  __getattribute__(self, name, /)\n",
      "     |      Return getattr(self, name).\n",
      "     |  \n",
      "     |  ----------------------------------------------------------------------\n",
      "     |  Static methods inherited from _random.Random:\n",
      "     |  \n",
      "     |  __new__(*args, **kwargs) from builtins.type\n",
      "     |      Create and return a new object.  See help(type) for accurate signature.\n",
      "\n",
      "FUNCTIONS\n",
      "    betavariate(alpha, beta) method of Random instance\n",
      "        Beta distribution.\n",
      "        \n",
      "        Conditions on the parameters are alpha > 0 and beta > 0.\n",
      "        Returned values range between 0 and 1.\n",
      "    \n",
      "    choice(seq) method of Random instance\n",
      "        Choose a random element from a non-empty sequence.\n",
      "    \n",
      "    choices(population, weights=None, *, cum_weights=None, k=1) method of Random instance\n",
      "        Return a k sized list of population elements chosen with replacement.\n",
      "        \n",
      "        If the relative weights or cumulative weights are not specified,\n",
      "        the selections are made with equal probability.\n",
      "    \n",
      "    expovariate(lambd) method of Random instance\n",
      "        Exponential distribution.\n",
      "        \n",
      "        lambd is 1.0 divided by the desired mean.  It should be\n",
      "        nonzero.  (The parameter would be called \"lambda\", but that is\n",
      "        a reserved word in Python.)  Returned values range from 0 to\n",
      "        positive infinity if lambd is positive, and from negative\n",
      "        infinity to 0 if lambd is negative.\n",
      "    \n",
      "    gammavariate(alpha, beta) method of Random instance\n",
      "        Gamma distribution.  Not the gamma function!\n",
      "        \n",
      "        Conditions on the parameters are alpha > 0 and beta > 0.\n",
      "        \n",
      "        The probability distribution function is:\n",
      "        \n",
      "                    x ** (alpha - 1) * math.exp(-x / beta)\n",
      "          pdf(x) =  --------------------------------------\n",
      "                      math.gamma(alpha) * beta ** alpha\n",
      "    \n",
      "    gauss(mu, sigma) method of Random instance\n",
      "        Gaussian distribution.\n",
      "        \n",
      "        mu is the mean, and sigma is the standard deviation.  This is\n",
      "        slightly faster than the normalvariate() function.\n",
      "        \n",
      "        Not thread-safe without a lock around calls.\n",
      "    \n",
      "    getrandbits(k, /) method of Random instance\n",
      "        getrandbits(k) -> x.  Generates an int with k random bits.\n",
      "    \n",
      "    getstate() method of Random instance\n",
      "        Return internal state; can be passed to setstate() later.\n",
      "    \n",
      "    lognormvariate(mu, sigma) method of Random instance\n",
      "        Log normal distribution.\n",
      "        \n",
      "        If you take the natural logarithm of this distribution, you'll get a\n",
      "        normal distribution with mean mu and standard deviation sigma.\n",
      "        mu can have any value, and sigma must be greater than zero.\n",
      "    \n",
      "    normalvariate(mu, sigma) method of Random instance\n",
      "        Normal distribution.\n",
      "        \n",
      "        mu is the mean, and sigma is the standard deviation.\n",
      "    \n",
      "    paretovariate(alpha) method of Random instance\n",
      "        Pareto distribution.  alpha is the shape parameter.\n",
      "    \n",
      "    randint(a, b) method of Random instance\n",
      "        Return random integer in range [a, b], including both end points.\n",
      "    \n",
      "    random() method of Random instance\n",
      "        random() -> x in the interval [0, 1).\n",
      "    \n",
      "    randrange(start, stop=None, step=1, _int=<class 'int'>) method of Random instance\n",
      "        Choose a random item from range(start, stop[, step]).\n",
      "        \n",
      "        This fixes the problem with randint() which includes the\n",
      "        endpoint; in Python this is usually not what you want.\n",
      "    \n",
      "    sample(population, k) method of Random instance\n",
      "        Chooses k unique random elements from a population sequence or set.\n",
      "        \n",
      "        Returns a new list containing elements from the population while\n",
      "        leaving the original population unchanged.  The resulting list is\n",
      "        in selection order so that all sub-slices will also be valid random\n",
      "        samples.  This allows raffle winners (the sample) to be partitioned\n",
      "        into grand prize and second place winners (the subslices).\n",
      "        \n",
      "        Members of the population need not be hashable or unique.  If the\n",
      "        population contains repeats, then each occurrence is a possible\n",
      "        selection in the sample.\n",
      "        \n",
      "        To choose a sample in a range of integers, use range as an argument.\n",
      "        This is especially fast and space efficient for sampling from a\n",
      "        large population:   sample(range(10000000), 60)\n",
      "    \n",
      "    seed(a=None, version=2) method of Random instance\n",
      "        Initialize internal state from hashable object.\n",
      "        \n",
      "        None or no argument seeds from current time or from an operating\n",
      "        system specific randomness source if available.\n",
      "        \n",
      "        If *a* is an int, all bits are used.\n",
      "        \n",
      "        For version 2 (the default), all of the bits are used if *a* is a str,\n",
      "        bytes, or bytearray.  For version 1 (provided for reproducing random\n",
      "        sequences from older versions of Python), the algorithm for str and\n",
      "        bytes generates a narrower range of seeds.\n",
      "    \n",
      "    setstate(state) method of Random instance\n",
      "        Restore internal state from object returned by getstate().\n",
      "    \n",
      "    shuffle(x, random=None) method of Random instance\n",
      "        Shuffle list x in place, and return None.\n",
      "        \n",
      "        Optional argument random is a 0-argument function returning a\n",
      "        random float in [0.0, 1.0); if it is the default None, the\n",
      "        standard random.random will be used.\n",
      "    \n",
      "    triangular(low=0.0, high=1.0, mode=None) method of Random instance\n",
      "        Triangular distribution.\n",
      "        \n",
      "        Continuous distribution bounded by given lower and upper limits,\n",
      "        and having a given mode value in-between.\n",
      "        \n",
      "        http://en.wikipedia.org/wiki/Triangular_distribution\n",
      "    \n",
      "    uniform(a, b) method of Random instance\n",
      "        Get a random number in the range [a, b) or [a, b] depending on rounding.\n",
      "    \n",
      "    vonmisesvariate(mu, kappa) method of Random instance\n",
      "        Circular data distribution.\n",
      "        \n",
      "        mu is the mean angle, expressed in radians between 0 and 2*pi, and\n",
      "        kappa is the concentration parameter, which must be greater than or\n",
      "        equal to zero.  If kappa is equal to zero, this distribution reduces\n",
      "        to a uniform random angle over the range 0 to 2*pi.\n",
      "    \n",
      "    weibullvariate(alpha, beta) method of Random instance\n",
      "        Weibull distribution.\n",
      "        \n",
      "        alpha is the scale parameter and beta is the shape parameter.\n",
      "\n",
      "DATA\n",
      "    __all__ = ['Random', 'seed', 'random', 'uniform', 'randint', 'choice',...\n",
      "\n",
      "FILE\n",
      "    /Applications/anaconda3/lib/python3.8/random.py\n",
      "\n",
      "\n"
     ]
    }
   ],
   "source": [
    "import random\n",
    "help(random)"
   ]
  },
  {
   "cell_type": "code",
   "execution_count": 67,
   "id": "57bb9cb5-428b-47e2-be3d-94068b8251f2",
   "metadata": {},
   "outputs": [
    {
     "data": {
      "text/plain": [
       "'C'"
      ]
     },
     "execution_count": 67,
     "metadata": {},
     "output_type": "execute_result"
    }
   ],
   "source": [
    "random.choice (bases)"
   ]
  },
  {
   "cell_type": "code",
   "execution_count": 71,
   "id": "d2de7ed2-4d34-4ef4-8fe5-e23202356878",
   "metadata": {},
   "outputs": [
    {
     "name": "stdout",
     "output_type": "stream",
     "text": [
      "ACTTGCTTGAC\n"
     ]
    }
   ],
   "source": [
    "print(bases)\n"
   ]
  },
  {
   "cell_type": "code",
   "execution_count": 81,
   "id": "fd980096-2d89-42b4-9b84-f43f10dd9ed9",
   "metadata": {},
   "outputs": [
    {
     "ename": "SyntaxError",
     "evalue": "invalid syntax (<ipython-input-81-f76ca5eaba1e>, line 1)",
     "output_type": "error",
     "traceback": [
      "\u001b[0;36m  File \u001b[0;32m\"<ipython-input-81-f76ca5eaba1e>\"\u001b[0;36m, line \u001b[0;32m1\u001b[0m\n\u001b[0;31m    random potato = random.randrange(len(bases))\u001b[0m\n\u001b[0m           ^\u001b[0m\n\u001b[0;31mSyntaxError\u001b[0m\u001b[0;31m:\u001b[0m invalid syntax\n"
     ]
    }
   ],
   "source": [
    "random potato = random.randrange(len(bases))"
   ]
  },
  {
   "cell_type": "code",
   "execution_count": 80,
   "id": "0f9dcc73-2dc3-4d59-b38b-6db10149a0cc",
   "metadata": {},
   "outputs": [
    {
     "ename": "NameError",
     "evalue": "name 'base' is not defined",
     "output_type": "error",
     "traceback": [
      "\u001b[0;31m---------------------------------------------------------------------------\u001b[0m",
      "\u001b[0;31mNameError\u001b[0m                                 Traceback (most recent call last)",
      "\u001b[0;32m<ipython-input-80-2bc82765b507>\u001b[0m in \u001b[0;36m<module>\u001b[0;34m\u001b[0m\n\u001b[0;32m----> 1\u001b[0;31m \u001b[0mprint\u001b[0m\u001b[0;34m(\u001b[0m\u001b[0mbase\u001b[0m\u001b[0;34m)\u001b[0m\u001b[0;34m\u001b[0m\u001b[0;34m\u001b[0m\u001b[0m\n\u001b[0m",
      "\u001b[0;31mNameError\u001b[0m: name 'base' is not defined"
     ]
    }
   ],
   "source": [
    "print(base)\n"
   ]
  },
  {
   "cell_type": "code",
   "execution_count": 82,
   "id": "b7ebe439-056e-40d2-bbea-5532cf29d001",
   "metadata": {},
   "outputs": [
    {
     "name": "stdout",
     "output_type": "stream",
     "text": [
      "ACTTGCTTGAC\n"
     ]
    }
   ],
   "source": [
    "print(bases)"
   ]
  },
  {
   "cell_type": "code",
   "execution_count": 83,
   "id": "d0ae423f-1923-4a51-8796-063a38e72137",
   "metadata": {},
   "outputs": [
    {
     "name": "stdout",
     "output_type": "stream",
     "text": [
      "11\n"
     ]
    }
   ],
   "source": [
    "print(len(bases))"
   ]
  },
  {
   "cell_type": "code",
   "execution_count": 97,
   "id": "dd5f22af-cffe-4b65-b437-348e75bf72eb",
   "metadata": {},
   "outputs": [],
   "source": [
    "random_position = random.randrange(len(bases))"
   ]
  },
  {
   "cell_type": "code",
   "execution_count": 98,
   "id": "30d64155-bdb4-493c-acb0-6557f6272ed7",
   "metadata": {},
   "outputs": [
    {
     "name": "stdout",
     "output_type": "stream",
     "text": [
      "random base C base index 10\n"
     ]
    }
   ],
   "source": [
    "print(\"random base\", bases [random_position], \"base index\", random_position)"
   ]
  },
  {
   "cell_type": "code",
   "execution_count": 99,
   "id": "83daf455-0452-44da-b0e8-4c941619c4ae",
   "metadata": {},
   "outputs": [],
   "source": [
    "from random import randrange as randomrange\n"
   ]
  },
  {
   "cell_type": "code",
   "execution_count": 102,
   "id": "498685be-f630-4a46-a9bb-c0eaffdaa3ca",
   "metadata": {},
   "outputs": [],
   "source": [
    "random_position = randomrange(len(bases))"
   ]
  },
  {
   "cell_type": "code",
   "execution_count": 103,
   "id": "a6c9bfc5-5e4b-4216-adfe-9b50443f0de5",
   "metadata": {},
   "outputs": [
    {
     "name": "stdout",
     "output_type": "stream",
     "text": [
      "1\n"
     ]
    }
   ],
   "source": [
    "print(random_position)"
   ]
  },
  {
   "cell_type": "code",
   "execution_count": 109,
   "id": "b6a802b3-c373-41c6-9df8-c4aa9ba3ce3c",
   "metadata": {},
   "outputs": [
    {
     "name": "stdout",
     "output_type": "stream",
     "text": [
      "   DisProt entry ID UniProt ACC  Start   End      Reference  Length\n",
      "0           DP00613      Q22472      1   378  pmid:19899809     378\n",
      "1           DP00868      Q9NHC3    102   117  pmid:21616056     279\n",
      "2           DP01090      G4SLH0   3546  3795  pmid:20346955   18562\n",
      "3           DP01113      D0PV95      1   168  pmid:26015579     708\n",
      "4           DP01313      Q9N4U5    163   223  pmid:27150041     547\n",
      "5           DP01407      O61667     93   106  pmid:15383288     106\n",
      "6           DP01436      P54936    423   487  pmid:12110687     961\n",
      "7           DP01437      P90976    115   180  pmid:12110687     297\n",
      "8           DP01558      Q9XTY3     17   211  pmid:22947085     211\n",
      "9           DP01973      Q09514      1    18  pmid:26621324     266\n",
      "10          DP02025      P30429      1   105  pmid:16208361     571\n",
      "11          DP02216      Q9U3S5      1   100  pmid:30036386    1050\n",
      "12          DP02313      Q8IG33     18    88  pmid:21397184     186\n"
     ]
    }
   ],
   "source": [
    "import pandas as pd\n",
    "data = pd.read_csv(\"data/DisProt_data_Caenorhabditis-elegans.csv\")\n",
    "print(data)\n"
   ]
  },
  {
   "cell_type": "code",
   "execution_count": 5,
   "id": "8c88eaa9-6727-4156-a314-445936ce8938",
   "metadata": {},
   "outputs": [],
   "source": [
    "data = pd.read_csv(\"data/DisProt_data_Caenorhabditis-elegans.csv\", index_col=\"DisProt entry ID\")"
   ]
  },
  {
   "cell_type": "code",
   "execution_count": 6,
   "id": "64b010e0-2dbb-410a-ace8-ca83819614b9",
   "metadata": {},
   "outputs": [
    {
     "name": "stdout",
     "output_type": "stream",
     "text": [
      "                 UniProt ACC  Start   End      Reference  Length\n",
      "DisProt entry ID                                                \n",
      "DP00613               Q22472      1   378  pmid:19899809     378\n",
      "DP00868               Q9NHC3    102   117  pmid:21616056     279\n",
      "DP01090               G4SLH0   3546  3795  pmid:20346955   18562\n",
      "DP01113               D0PV95      1   168  pmid:26015579     708\n",
      "DP01313               Q9N4U5    163   223  pmid:27150041     547\n",
      "DP01407               O61667     93   106  pmid:15383288     106\n",
      "DP01436               P54936    423   487  pmid:12110687     961\n",
      "DP01437               P90976    115   180  pmid:12110687     297\n",
      "DP01558               Q9XTY3     17   211  pmid:22947085     211\n",
      "DP01973               Q09514      1    18  pmid:26621324     266\n",
      "DP02025               P30429      1   105  pmid:16208361     571\n",
      "DP02216               Q9U3S5      1   100  pmid:30036386    1050\n",
      "DP02313               Q8IG33     18    88  pmid:21397184     186\n"
     ]
    }
   ],
   "source": [
    "print(data)"
   ]
  },
  {
   "cell_type": "code",
   "execution_count": 112,
   "id": "cfe37931-8f53-4961-8658-9a97a56d8c06",
   "metadata": {},
   "outputs": [
    {
     "data": {
      "text/html": [
       "<div>\n",
       "<style scoped>\n",
       "    .dataframe tbody tr th:only-of-type {\n",
       "        vertical-align: middle;\n",
       "    }\n",
       "\n",
       "    .dataframe tbody tr th {\n",
       "        vertical-align: top;\n",
       "    }\n",
       "\n",
       "    .dataframe thead th {\n",
       "        text-align: right;\n",
       "    }\n",
       "</style>\n",
       "<table border=\"1\" class=\"dataframe\">\n",
       "  <thead>\n",
       "    <tr style=\"text-align: right;\">\n",
       "      <th></th>\n",
       "      <th>UniProt ACC</th>\n",
       "      <th>Start</th>\n",
       "      <th>End</th>\n",
       "      <th>Reference</th>\n",
       "      <th>Length</th>\n",
       "    </tr>\n",
       "    <tr>\n",
       "      <th>DisProt entry ID</th>\n",
       "      <th></th>\n",
       "      <th></th>\n",
       "      <th></th>\n",
       "      <th></th>\n",
       "      <th></th>\n",
       "    </tr>\n",
       "  </thead>\n",
       "  <tbody>\n",
       "    <tr>\n",
       "      <th>DP00613</th>\n",
       "      <td>Q22472</td>\n",
       "      <td>1</td>\n",
       "      <td>378</td>\n",
       "      <td>pmid:19899809</td>\n",
       "      <td>378</td>\n",
       "    </tr>\n",
       "    <tr>\n",
       "      <th>DP00868</th>\n",
       "      <td>Q9NHC3</td>\n",
       "      <td>102</td>\n",
       "      <td>117</td>\n",
       "      <td>pmid:21616056</td>\n",
       "      <td>279</td>\n",
       "    </tr>\n",
       "    <tr>\n",
       "      <th>DP01090</th>\n",
       "      <td>G4SLH0</td>\n",
       "      <td>3546</td>\n",
       "      <td>3795</td>\n",
       "      <td>pmid:20346955</td>\n",
       "      <td>18562</td>\n",
       "    </tr>\n",
       "    <tr>\n",
       "      <th>DP01113</th>\n",
       "      <td>D0PV95</td>\n",
       "      <td>1</td>\n",
       "      <td>168</td>\n",
       "      <td>pmid:26015579</td>\n",
       "      <td>708</td>\n",
       "    </tr>\n",
       "    <tr>\n",
       "      <th>DP01313</th>\n",
       "      <td>Q9N4U5</td>\n",
       "      <td>163</td>\n",
       "      <td>223</td>\n",
       "      <td>pmid:27150041</td>\n",
       "      <td>547</td>\n",
       "    </tr>\n",
       "    <tr>\n",
       "      <th>DP01407</th>\n",
       "      <td>O61667</td>\n",
       "      <td>93</td>\n",
       "      <td>106</td>\n",
       "      <td>pmid:15383288</td>\n",
       "      <td>106</td>\n",
       "    </tr>\n",
       "    <tr>\n",
       "      <th>DP01436</th>\n",
       "      <td>P54936</td>\n",
       "      <td>423</td>\n",
       "      <td>487</td>\n",
       "      <td>pmid:12110687</td>\n",
       "      <td>961</td>\n",
       "    </tr>\n",
       "    <tr>\n",
       "      <th>DP01437</th>\n",
       "      <td>P90976</td>\n",
       "      <td>115</td>\n",
       "      <td>180</td>\n",
       "      <td>pmid:12110687</td>\n",
       "      <td>297</td>\n",
       "    </tr>\n",
       "    <tr>\n",
       "      <th>DP01558</th>\n",
       "      <td>Q9XTY3</td>\n",
       "      <td>17</td>\n",
       "      <td>211</td>\n",
       "      <td>pmid:22947085</td>\n",
       "      <td>211</td>\n",
       "    </tr>\n",
       "    <tr>\n",
       "      <th>DP01973</th>\n",
       "      <td>Q09514</td>\n",
       "      <td>1</td>\n",
       "      <td>18</td>\n",
       "      <td>pmid:26621324</td>\n",
       "      <td>266</td>\n",
       "    </tr>\n",
       "    <tr>\n",
       "      <th>DP02025</th>\n",
       "      <td>P30429</td>\n",
       "      <td>1</td>\n",
       "      <td>105</td>\n",
       "      <td>pmid:16208361</td>\n",
       "      <td>571</td>\n",
       "    </tr>\n",
       "    <tr>\n",
       "      <th>DP02216</th>\n",
       "      <td>Q9U3S5</td>\n",
       "      <td>1</td>\n",
       "      <td>100</td>\n",
       "      <td>pmid:30036386</td>\n",
       "      <td>1050</td>\n",
       "    </tr>\n",
       "    <tr>\n",
       "      <th>DP02313</th>\n",
       "      <td>Q8IG33</td>\n",
       "      <td>18</td>\n",
       "      <td>88</td>\n",
       "      <td>pmid:21397184</td>\n",
       "      <td>186</td>\n",
       "    </tr>\n",
       "  </tbody>\n",
       "</table>\n",
       "</div>"
      ],
      "text/plain": [
       "                 UniProt ACC  Start   End      Reference  Length\n",
       "DisProt entry ID                                                \n",
       "DP00613               Q22472      1   378  pmid:19899809     378\n",
       "DP00868               Q9NHC3    102   117  pmid:21616056     279\n",
       "DP01090               G4SLH0   3546  3795  pmid:20346955   18562\n",
       "DP01113               D0PV95      1   168  pmid:26015579     708\n",
       "DP01313               Q9N4U5    163   223  pmid:27150041     547\n",
       "DP01407               O61667     93   106  pmid:15383288     106\n",
       "DP01436               P54936    423   487  pmid:12110687     961\n",
       "DP01437               P90976    115   180  pmid:12110687     297\n",
       "DP01558               Q9XTY3     17   211  pmid:22947085     211\n",
       "DP01973               Q09514      1    18  pmid:26621324     266\n",
       "DP02025               P30429      1   105  pmid:16208361     571\n",
       "DP02216               Q9U3S5      1   100  pmid:30036386    1050\n",
       "DP02313               Q8IG33     18    88  pmid:21397184     186"
      ]
     },
     "execution_count": 112,
     "metadata": {},
     "output_type": "execute_result"
    }
   ],
   "source": [
    "data\n",
    "\n"
   ]
  },
  {
   "cell_type": "code",
   "execution_count": 113,
   "id": "e04c8088-84cc-42ed-85ed-3d61367775ee",
   "metadata": {},
   "outputs": [
    {
     "name": "stdout",
     "output_type": "stream",
     "text": [
      "<class 'pandas.core.frame.DataFrame'>\n",
      "Index: 13 entries, DP00613 to DP02313\n",
      "Data columns (total 5 columns):\n",
      " #   Column       Non-Null Count  Dtype \n",
      "---  ------       --------------  ----- \n",
      " 0   UniProt ACC  13 non-null     object\n",
      " 1   Start        13 non-null     int64 \n",
      " 2   End          13 non-null     int64 \n",
      " 3   Reference    13 non-null     object\n",
      " 4   Length       13 non-null     int64 \n",
      "dtypes: int64(3), object(2)\n",
      "memory usage: 624.0+ bytes\n"
     ]
    }
   ],
   "source": [
    "data.info()\n"
   ]
  },
  {
   "cell_type": "code",
   "execution_count": 114,
   "id": "2a911f13-f6b3-4e2c-a258-2d2693a1f9a4",
   "metadata": {},
   "outputs": [
    {
     "data": {
      "text/plain": [
       "Index(['UniProt ACC', 'Start', 'End', 'Reference', 'Length'], dtype='object')"
      ]
     },
     "execution_count": 114,
     "metadata": {},
     "output_type": "execute_result"
    }
   ],
   "source": [
    "data.columns"
   ]
  },
  {
   "cell_type": "code",
   "execution_count": 116,
   "id": "32617839-6ca0-4fed-8152-5cb2e9d5b414",
   "metadata": {},
   "outputs": [
    {
     "data": {
      "text/plain": [
       "'End'"
      ]
     },
     "execution_count": 116,
     "metadata": {},
     "output_type": "execute_result"
    }
   ],
   "source": [
    "data.columns[2]"
   ]
  },
  {
   "cell_type": "code",
   "execution_count": 117,
   "id": "93f3d80f-bd91-4f77-834d-f3bf40d71ae5",
   "metadata": {},
   "outputs": [
    {
     "data": {
      "text/html": [
       "<div>\n",
       "<style scoped>\n",
       "    .dataframe tbody tr th:only-of-type {\n",
       "        vertical-align: middle;\n",
       "    }\n",
       "\n",
       "    .dataframe tbody tr th {\n",
       "        vertical-align: top;\n",
       "    }\n",
       "\n",
       "    .dataframe thead th {\n",
       "        text-align: right;\n",
       "    }\n",
       "</style>\n",
       "<table border=\"1\" class=\"dataframe\">\n",
       "  <thead>\n",
       "    <tr style=\"text-align: right;\">\n",
       "      <th>DisProt entry ID</th>\n",
       "      <th>DP00613</th>\n",
       "      <th>DP00868</th>\n",
       "      <th>DP01090</th>\n",
       "      <th>DP01113</th>\n",
       "      <th>DP01313</th>\n",
       "      <th>DP01407</th>\n",
       "      <th>DP01436</th>\n",
       "      <th>DP01437</th>\n",
       "      <th>DP01558</th>\n",
       "      <th>DP01973</th>\n",
       "      <th>DP02025</th>\n",
       "      <th>DP02216</th>\n",
       "      <th>DP02313</th>\n",
       "    </tr>\n",
       "  </thead>\n",
       "  <tbody>\n",
       "    <tr>\n",
       "      <th>UniProt ACC</th>\n",
       "      <td>Q22472</td>\n",
       "      <td>Q9NHC3</td>\n",
       "      <td>G4SLH0</td>\n",
       "      <td>D0PV95</td>\n",
       "      <td>Q9N4U5</td>\n",
       "      <td>O61667</td>\n",
       "      <td>P54936</td>\n",
       "      <td>P90976</td>\n",
       "      <td>Q9XTY3</td>\n",
       "      <td>Q09514</td>\n",
       "      <td>P30429</td>\n",
       "      <td>Q9U3S5</td>\n",
       "      <td>Q8IG33</td>\n",
       "    </tr>\n",
       "    <tr>\n",
       "      <th>Start</th>\n",
       "      <td>1</td>\n",
       "      <td>102</td>\n",
       "      <td>3546</td>\n",
       "      <td>1</td>\n",
       "      <td>163</td>\n",
       "      <td>93</td>\n",
       "      <td>423</td>\n",
       "      <td>115</td>\n",
       "      <td>17</td>\n",
       "      <td>1</td>\n",
       "      <td>1</td>\n",
       "      <td>1</td>\n",
       "      <td>18</td>\n",
       "    </tr>\n",
       "    <tr>\n",
       "      <th>End</th>\n",
       "      <td>378</td>\n",
       "      <td>117</td>\n",
       "      <td>3795</td>\n",
       "      <td>168</td>\n",
       "      <td>223</td>\n",
       "      <td>106</td>\n",
       "      <td>487</td>\n",
       "      <td>180</td>\n",
       "      <td>211</td>\n",
       "      <td>18</td>\n",
       "      <td>105</td>\n",
       "      <td>100</td>\n",
       "      <td>88</td>\n",
       "    </tr>\n",
       "    <tr>\n",
       "      <th>Reference</th>\n",
       "      <td>pmid:19899809</td>\n",
       "      <td>pmid:21616056</td>\n",
       "      <td>pmid:20346955</td>\n",
       "      <td>pmid:26015579</td>\n",
       "      <td>pmid:27150041</td>\n",
       "      <td>pmid:15383288</td>\n",
       "      <td>pmid:12110687</td>\n",
       "      <td>pmid:12110687</td>\n",
       "      <td>pmid:22947085</td>\n",
       "      <td>pmid:26621324</td>\n",
       "      <td>pmid:16208361</td>\n",
       "      <td>pmid:30036386</td>\n",
       "      <td>pmid:21397184</td>\n",
       "    </tr>\n",
       "    <tr>\n",
       "      <th>Length</th>\n",
       "      <td>378</td>\n",
       "      <td>279</td>\n",
       "      <td>18562</td>\n",
       "      <td>708</td>\n",
       "      <td>547</td>\n",
       "      <td>106</td>\n",
       "      <td>961</td>\n",
       "      <td>297</td>\n",
       "      <td>211</td>\n",
       "      <td>266</td>\n",
       "      <td>571</td>\n",
       "      <td>1050</td>\n",
       "      <td>186</td>\n",
       "    </tr>\n",
       "  </tbody>\n",
       "</table>\n",
       "</div>"
      ],
      "text/plain": [
       "DisProt entry ID        DP00613        DP00868        DP01090        DP01113  \\\n",
       "UniProt ACC              Q22472         Q9NHC3         G4SLH0         D0PV95   \n",
       "Start                         1            102           3546              1   \n",
       "End                         378            117           3795            168   \n",
       "Reference         pmid:19899809  pmid:21616056  pmid:20346955  pmid:26015579   \n",
       "Length                      378            279          18562            708   \n",
       "\n",
       "DisProt entry ID        DP01313        DP01407        DP01436        DP01437  \\\n",
       "UniProt ACC              Q9N4U5         O61667         P54936         P90976   \n",
       "Start                       163             93            423            115   \n",
       "End                         223            106            487            180   \n",
       "Reference         pmid:27150041  pmid:15383288  pmid:12110687  pmid:12110687   \n",
       "Length                      547            106            961            297   \n",
       "\n",
       "DisProt entry ID        DP01558        DP01973        DP02025        DP02216  \\\n",
       "UniProt ACC              Q9XTY3         Q09514         P30429         Q9U3S5   \n",
       "Start                        17              1              1              1   \n",
       "End                         211             18            105            100   \n",
       "Reference         pmid:22947085  pmid:26621324  pmid:16208361  pmid:30036386   \n",
       "Length                      211            266            571           1050   \n",
       "\n",
       "DisProt entry ID        DP02313  \n",
       "UniProt ACC              Q8IG33  \n",
       "Start                        18  \n",
       "End                          88  \n",
       "Reference         pmid:21397184  \n",
       "Length                      186  "
      ]
     },
     "execution_count": 117,
     "metadata": {},
     "output_type": "execute_result"
    }
   ],
   "source": [
    "data.T\n"
   ]
  },
  {
   "cell_type": "code",
   "execution_count": 118,
   "id": "fe1ade74-228a-4be6-8350-229829fe7c9f",
   "metadata": {},
   "outputs": [
    {
     "name": "stdout",
     "output_type": "stream",
     "text": [
      "DisProt entry ID        DP00613        DP00868        DP01090        DP01113  \\\n",
      "UniProt ACC              Q22472         Q9NHC3         G4SLH0         D0PV95   \n",
      "Start                         1            102           3546              1   \n",
      "End                         378            117           3795            168   \n",
      "Reference         pmid:19899809  pmid:21616056  pmid:20346955  pmid:26015579   \n",
      "Length                      378            279          18562            708   \n",
      "\n",
      "DisProt entry ID        DP01313        DP01407        DP01436        DP01437  \\\n",
      "UniProt ACC              Q9N4U5         O61667         P54936         P90976   \n",
      "Start                       163             93            423            115   \n",
      "End                         223            106            487            180   \n",
      "Reference         pmid:27150041  pmid:15383288  pmid:12110687  pmid:12110687   \n",
      "Length                      547            106            961            297   \n",
      "\n",
      "DisProt entry ID        DP01558        DP01973        DP02025        DP02216  \\\n",
      "UniProt ACC              Q9XTY3         Q09514         P30429         Q9U3S5   \n",
      "Start                        17              1              1              1   \n",
      "End                         211             18            105            100   \n",
      "Reference         pmid:22947085  pmid:26621324  pmid:16208361  pmid:30036386   \n",
      "Length                      211            266            571           1050   \n",
      "\n",
      "DisProt entry ID        DP02313  \n",
      "UniProt ACC              Q8IG33  \n",
      "Start                        18  \n",
      "End                          88  \n",
      "Reference         pmid:21397184  \n",
      "Length                      186  \n"
     ]
    }
   ],
   "source": [
    "data_transposed = data.T\n",
    "print(data_transposed)"
   ]
  },
  {
   "cell_type": "code",
   "execution_count": 119,
   "id": "f9510587-bcfd-4044-9143-046ad4e16e0d",
   "metadata": {},
   "outputs": [
    {
     "data": {
      "text/html": [
       "<div>\n",
       "<style scoped>\n",
       "    .dataframe tbody tr th:only-of-type {\n",
       "        vertical-align: middle;\n",
       "    }\n",
       "\n",
       "    .dataframe tbody tr th {\n",
       "        vertical-align: top;\n",
       "    }\n",
       "\n",
       "    .dataframe thead th {\n",
       "        text-align: right;\n",
       "    }\n",
       "</style>\n",
       "<table border=\"1\" class=\"dataframe\">\n",
       "  <thead>\n",
       "    <tr style=\"text-align: right;\">\n",
       "      <th></th>\n",
       "      <th>Start</th>\n",
       "      <th>End</th>\n",
       "      <th>Length</th>\n",
       "    </tr>\n",
       "  </thead>\n",
       "  <tbody>\n",
       "    <tr>\n",
       "      <th>count</th>\n",
       "      <td>13.000000</td>\n",
       "      <td>13.000000</td>\n",
       "      <td>13.000000</td>\n",
       "    </tr>\n",
       "    <tr>\n",
       "      <th>mean</th>\n",
       "      <td>344.769231</td>\n",
       "      <td>459.692308</td>\n",
       "      <td>1855.538462</td>\n",
       "    </tr>\n",
       "    <tr>\n",
       "      <th>std</th>\n",
       "      <td>968.988059</td>\n",
       "      <td>1010.109267</td>\n",
       "      <td>5028.345679</td>\n",
       "    </tr>\n",
       "    <tr>\n",
       "      <th>min</th>\n",
       "      <td>1.000000</td>\n",
       "      <td>18.000000</td>\n",
       "      <td>106.000000</td>\n",
       "    </tr>\n",
       "    <tr>\n",
       "      <th>25%</th>\n",
       "      <td>1.000000</td>\n",
       "      <td>105.000000</td>\n",
       "      <td>266.000000</td>\n",
       "    </tr>\n",
       "    <tr>\n",
       "      <th>50%</th>\n",
       "      <td>18.000000</td>\n",
       "      <td>168.000000</td>\n",
       "      <td>378.000000</td>\n",
       "    </tr>\n",
       "    <tr>\n",
       "      <th>75%</th>\n",
       "      <td>115.000000</td>\n",
       "      <td>223.000000</td>\n",
       "      <td>708.000000</td>\n",
       "    </tr>\n",
       "    <tr>\n",
       "      <th>max</th>\n",
       "      <td>3546.000000</td>\n",
       "      <td>3795.000000</td>\n",
       "      <td>18562.000000</td>\n",
       "    </tr>\n",
       "  </tbody>\n",
       "</table>\n",
       "</div>"
      ],
      "text/plain": [
       "             Start          End        Length\n",
       "count    13.000000    13.000000     13.000000\n",
       "mean    344.769231   459.692308   1855.538462\n",
       "std     968.988059  1010.109267   5028.345679\n",
       "min       1.000000    18.000000    106.000000\n",
       "25%       1.000000   105.000000    266.000000\n",
       "50%      18.000000   168.000000    378.000000\n",
       "75%     115.000000   223.000000    708.000000\n",
       "max    3546.000000  3795.000000  18562.000000"
      ]
     },
     "execution_count": 119,
     "metadata": {},
     "output_type": "execute_result"
    }
   ],
   "source": [
    "data.describe()\n"
   ]
  },
  {
   "cell_type": "code",
   "execution_count": 120,
   "id": "1938c6bf-9e66-4227-8528-fe1a072573df",
   "metadata": {},
   "outputs": [
    {
     "data": {
      "text/html": [
       "<div>\n",
       "<style scoped>\n",
       "    .dataframe tbody tr th:only-of-type {\n",
       "        vertical-align: middle;\n",
       "    }\n",
       "\n",
       "    .dataframe tbody tr th {\n",
       "        vertical-align: top;\n",
       "    }\n",
       "\n",
       "    .dataframe thead th {\n",
       "        text-align: right;\n",
       "    }\n",
       "</style>\n",
       "<table border=\"1\" class=\"dataframe\">\n",
       "  <thead>\n",
       "    <tr style=\"text-align: right;\">\n",
       "      <th></th>\n",
       "      <th>DisProt entry ID</th>\n",
       "      <th>UniProt ACC</th>\n",
       "      <th>Start</th>\n",
       "      <th>End</th>\n",
       "      <th>Reference</th>\n",
       "      <th>Length</th>\n",
       "    </tr>\n",
       "  </thead>\n",
       "  <tbody>\n",
       "    <tr>\n",
       "      <th>0</th>\n",
       "      <td>DP00342</td>\n",
       "      <td>P09883</td>\n",
       "      <td>1</td>\n",
       "      <td>83</td>\n",
       "      <td>pmid:12054823</td>\n",
       "      <td>582</td>\n",
       "    </tr>\n",
       "    <tr>\n",
       "      <th>1</th>\n",
       "      <td>DP00389</td>\n",
       "      <td>P09983</td>\n",
       "      <td>962</td>\n",
       "      <td>1023</td>\n",
       "      <td>pmid:7703231</td>\n",
       "      <td>1023</td>\n",
       "    </tr>\n",
       "    <tr>\n",
       "      <th>2</th>\n",
       "      <td>DP00461</td>\n",
       "      <td>P08083</td>\n",
       "      <td>67</td>\n",
       "      <td>90</td>\n",
       "      <td>pmid:9687368</td>\n",
       "      <td>387</td>\n",
       "    </tr>\n",
       "    <tr>\n",
       "      <th>3</th>\n",
       "      <td>DP00575</td>\n",
       "      <td>P77072</td>\n",
       "      <td>1</td>\n",
       "      <td>20</td>\n",
       "      <td>pmid:15222745</td>\n",
       "      <td>212</td>\n",
       "    </tr>\n",
       "    <tr>\n",
       "      <th>4</th>\n",
       "      <td>DP00656</td>\n",
       "      <td>P07674</td>\n",
       "      <td>1</td>\n",
       "      <td>64</td>\n",
       "      <td>pmid:20200158</td>\n",
       "      <td>358</td>\n",
       "    </tr>\n",
       "    <tr>\n",
       "      <th>5</th>\n",
       "      <td>DP00833</td>\n",
       "      <td>P22995</td>\n",
       "      <td>58</td>\n",
       "      <td>83</td>\n",
       "      <td>pmid:11743881</td>\n",
       "      <td>83</td>\n",
       "    </tr>\n",
       "    <tr>\n",
       "      <th>6</th>\n",
       "      <td>DP01201</td>\n",
       "      <td>Q47184</td>\n",
       "      <td>1</td>\n",
       "      <td>30</td>\n",
       "      <td>pmid:15943811</td>\n",
       "      <td>192</td>\n",
       "    </tr>\n",
       "  </tbody>\n",
       "</table>\n",
       "</div>"
      ],
      "text/plain": [
       "  DisProt entry ID UniProt ACC  Start   End      Reference  Length\n",
       "0          DP00342      P09883      1    83  pmid:12054823     582\n",
       "1          DP00389      P09983    962  1023   pmid:7703231    1023\n",
       "2          DP00461      P08083     67    90   pmid:9687368     387\n",
       "3          DP00575      P77072      1    20  pmid:15222745     212\n",
       "4          DP00656      P07674      1    64  pmid:20200158     358\n",
       "5          DP00833      P22995     58    83  pmid:11743881      83\n",
       "6          DP01201      Q47184      1    30  pmid:15943811     192"
      ]
     },
     "execution_count": 120,
     "metadata": {},
     "output_type": "execute_result"
    }
   ],
   "source": [
    "coli = pd.read_csv(\"data/DisProt_data_Escherichia-coli.csv\")\n",
    "coli\n"
   ]
  },
  {
   "cell_type": "code",
   "execution_count": 121,
   "id": "3345f8df-212b-407b-b760-e765d26a70d2",
   "metadata": {},
   "outputs": [
    {
     "name": "stdout",
     "output_type": "stream",
     "text": [
      "<class 'pandas.core.frame.DataFrame'>\n",
      "RangeIndex: 7 entries, 0 to 6\n",
      "Data columns (total 6 columns):\n",
      " #   Column            Non-Null Count  Dtype \n",
      "---  ------            --------------  ----- \n",
      " 0   DisProt entry ID  7 non-null      object\n",
      " 1   UniProt ACC       7 non-null      object\n",
      " 2   Start             7 non-null      int64 \n",
      " 3   End               7 non-null      int64 \n",
      " 4   Reference         7 non-null      object\n",
      " 5   Length            7 non-null      int64 \n",
      "dtypes: int64(3), object(3)\n",
      "memory usage: 464.0+ bytes\n"
     ]
    }
   ],
   "source": [
    "coli.info()\n"
   ]
  },
  {
   "cell_type": "code",
   "execution_count": 122,
   "id": "728d809b-3c7e-4160-b0ae-dc154dda2977",
   "metadata": {},
   "outputs": [
    {
     "name": "stdout",
     "output_type": "stream",
     "text": [
      "Help on method head in module pandas.core.generic:\n",
      "\n",
      "head(n: 'int' = 5) -> 'FrameOrSeries' method of pandas.core.frame.DataFrame instance\n",
      "    Return the first `n` rows.\n",
      "    \n",
      "    This function returns the first `n` rows for the object based\n",
      "    on position. It is useful for quickly testing if your object\n",
      "    has the right type of data in it.\n",
      "    \n",
      "    For negative values of `n`, this function returns all rows except\n",
      "    the last `n` rows, equivalent to ``df[:-n]``.\n",
      "    \n",
      "    Parameters\n",
      "    ----------\n",
      "    n : int, default 5\n",
      "        Number of rows to select.\n",
      "    \n",
      "    Returns\n",
      "    -------\n",
      "    same type as caller\n",
      "        The first `n` rows of the caller object.\n",
      "    \n",
      "    See Also\n",
      "    --------\n",
      "    DataFrame.tail: Returns the last `n` rows.\n",
      "    \n",
      "    Examples\n",
      "    --------\n",
      "    >>> df = pd.DataFrame({'animal': ['alligator', 'bee', 'falcon', 'lion',\n",
      "    ...                    'monkey', 'parrot', 'shark', 'whale', 'zebra']})\n",
      "    >>> df\n",
      "          animal\n",
      "    0  alligator\n",
      "    1        bee\n",
      "    2     falcon\n",
      "    3       lion\n",
      "    4     monkey\n",
      "    5     parrot\n",
      "    6      shark\n",
      "    7      whale\n",
      "    8      zebra\n",
      "    \n",
      "    Viewing the first 5 lines\n",
      "    \n",
      "    >>> df.head()\n",
      "          animal\n",
      "    0  alligator\n",
      "    1        bee\n",
      "    2     falcon\n",
      "    3       lion\n",
      "    4     monkey\n",
      "    \n",
      "    Viewing the first `n` lines (three in this case)\n",
      "    \n",
      "    >>> df.head(3)\n",
      "          animal\n",
      "    0  alligator\n",
      "    1        bee\n",
      "    2     falcon\n",
      "    \n",
      "    For negative values of `n`\n",
      "    \n",
      "    >>> df.head(-3)\n",
      "          animal\n",
      "    0  alligator\n",
      "    1        bee\n",
      "    2     falcon\n",
      "    3       lion\n",
      "    4     monkey\n",
      "    5     parrot\n",
      "\n"
     ]
    }
   ],
   "source": [
    "help(coli.head)"
   ]
  },
  {
   "cell_type": "code",
   "execution_count": 123,
   "id": "79447411-a000-4268-bfdb-e5197044310b",
   "metadata": {},
   "outputs": [
    {
     "name": "stdout",
     "output_type": "stream",
     "text": [
      "Help on method tail in module pandas.core.generic:\n",
      "\n",
      "tail(n: 'int' = 5) -> 'FrameOrSeries' method of pandas.core.frame.DataFrame instance\n",
      "    Return the last `n` rows.\n",
      "    \n",
      "    This function returns last `n` rows from the object based on\n",
      "    position. It is useful for quickly verifying data, for example,\n",
      "    after sorting or appending rows.\n",
      "    \n",
      "    For negative values of `n`, this function returns all rows except\n",
      "    the first `n` rows, equivalent to ``df[n:]``.\n",
      "    \n",
      "    Parameters\n",
      "    ----------\n",
      "    n : int, default 5\n",
      "        Number of rows to select.\n",
      "    \n",
      "    Returns\n",
      "    -------\n",
      "    type of caller\n",
      "        The last `n` rows of the caller object.\n",
      "    \n",
      "    See Also\n",
      "    --------\n",
      "    DataFrame.head : The first `n` rows of the caller object.\n",
      "    \n",
      "    Examples\n",
      "    --------\n",
      "    >>> df = pd.DataFrame({'animal': ['alligator', 'bee', 'falcon', 'lion',\n",
      "    ...                    'monkey', 'parrot', 'shark', 'whale', 'zebra']})\n",
      "    >>> df\n",
      "          animal\n",
      "    0  alligator\n",
      "    1        bee\n",
      "    2     falcon\n",
      "    3       lion\n",
      "    4     monkey\n",
      "    5     parrot\n",
      "    6      shark\n",
      "    7      whale\n",
      "    8      zebra\n",
      "    \n",
      "    Viewing the last 5 lines\n",
      "    \n",
      "    >>> df.tail()\n",
      "       animal\n",
      "    4  monkey\n",
      "    5  parrot\n",
      "    6   shark\n",
      "    7   whale\n",
      "    8   zebra\n",
      "    \n",
      "    Viewing the last `n` lines (three in this case)\n",
      "    \n",
      "    >>> df.tail(3)\n",
      "      animal\n",
      "    6  shark\n",
      "    7  whale\n",
      "    8  zebra\n",
      "    \n",
      "    For negative values of `n`\n",
      "    \n",
      "    >>> df.tail(-3)\n",
      "       animal\n",
      "    3    lion\n",
      "    4  monkey\n",
      "    5  parrot\n",
      "    6   shark\n",
      "    7   whale\n",
      "    8   zebra\n",
      "\n"
     ]
    }
   ],
   "source": [
    "help(coli.tail)"
   ]
  },
  {
   "cell_type": "code",
   "execution_count": 124,
   "id": "b2b89380-4599-4d00-a339-d5195d94ad63",
   "metadata": {},
   "outputs": [
    {
     "data": {
      "text/html": [
       "<div>\n",
       "<style scoped>\n",
       "    .dataframe tbody tr th:only-of-type {\n",
       "        vertical-align: middle;\n",
       "    }\n",
       "\n",
       "    .dataframe tbody tr th {\n",
       "        vertical-align: top;\n",
       "    }\n",
       "\n",
       "    .dataframe thead th {\n",
       "        text-align: right;\n",
       "    }\n",
       "</style>\n",
       "<table border=\"1\" class=\"dataframe\">\n",
       "  <thead>\n",
       "    <tr style=\"text-align: right;\">\n",
       "      <th></th>\n",
       "      <th>DisProt entry ID</th>\n",
       "      <th>UniProt ACC</th>\n",
       "      <th>Start</th>\n",
       "      <th>End</th>\n",
       "      <th>Reference</th>\n",
       "      <th>Length</th>\n",
       "    </tr>\n",
       "  </thead>\n",
       "  <tbody>\n",
       "    <tr>\n",
       "      <th>0</th>\n",
       "      <td>DP00342</td>\n",
       "      <td>P09883</td>\n",
       "      <td>1</td>\n",
       "      <td>83</td>\n",
       "      <td>pmid:12054823</td>\n",
       "      <td>582</td>\n",
       "    </tr>\n",
       "    <tr>\n",
       "      <th>1</th>\n",
       "      <td>DP00389</td>\n",
       "      <td>P09983</td>\n",
       "      <td>962</td>\n",
       "      <td>1023</td>\n",
       "      <td>pmid:7703231</td>\n",
       "      <td>1023</td>\n",
       "    </tr>\n",
       "    <tr>\n",
       "      <th>2</th>\n",
       "      <td>DP00461</td>\n",
       "      <td>P08083</td>\n",
       "      <td>67</td>\n",
       "      <td>90</td>\n",
       "      <td>pmid:9687368</td>\n",
       "      <td>387</td>\n",
       "    </tr>\n",
       "    <tr>\n",
       "      <th>3</th>\n",
       "      <td>DP00575</td>\n",
       "      <td>P77072</td>\n",
       "      <td>1</td>\n",
       "      <td>20</td>\n",
       "      <td>pmid:15222745</td>\n",
       "      <td>212</td>\n",
       "    </tr>\n",
       "    <tr>\n",
       "      <th>4</th>\n",
       "      <td>DP00656</td>\n",
       "      <td>P07674</td>\n",
       "      <td>1</td>\n",
       "      <td>64</td>\n",
       "      <td>pmid:20200158</td>\n",
       "      <td>358</td>\n",
       "    </tr>\n",
       "    <tr>\n",
       "      <th>5</th>\n",
       "      <td>DP00833</td>\n",
       "      <td>P22995</td>\n",
       "      <td>58</td>\n",
       "      <td>83</td>\n",
       "      <td>pmid:11743881</td>\n",
       "      <td>83</td>\n",
       "    </tr>\n",
       "    <tr>\n",
       "      <th>6</th>\n",
       "      <td>DP01201</td>\n",
       "      <td>Q47184</td>\n",
       "      <td>1</td>\n",
       "      <td>30</td>\n",
       "      <td>pmid:15943811</td>\n",
       "      <td>192</td>\n",
       "    </tr>\n",
       "  </tbody>\n",
       "</table>\n",
       "</div>"
      ],
      "text/plain": [
       "  DisProt entry ID UniProt ACC  Start   End      Reference  Length\n",
       "0          DP00342      P09883      1    83  pmid:12054823     582\n",
       "1          DP00389      P09983    962  1023   pmid:7703231    1023\n",
       "2          DP00461      P08083     67    90   pmid:9687368     387\n",
       "3          DP00575      P77072      1    20  pmid:15222745     212\n",
       "4          DP00656      P07674      1    64  pmid:20200158     358\n",
       "5          DP00833      P22995     58    83  pmid:11743881      83\n",
       "6          DP01201      Q47184      1    30  pmid:15943811     192"
      ]
     },
     "execution_count": 124,
     "metadata": {},
     "output_type": "execute_result"
    }
   ],
   "source": [
    "coli\n"
   ]
  },
  {
   "cell_type": "code",
   "execution_count": 125,
   "id": "3eaadff2-c1aa-4025-a7f1-e82748eec910",
   "metadata": {},
   "outputs": [
    {
     "data": {
      "text/html": [
       "<div>\n",
       "<style scoped>\n",
       "    .dataframe tbody tr th:only-of-type {\n",
       "        vertical-align: middle;\n",
       "    }\n",
       "\n",
       "    .dataframe tbody tr th {\n",
       "        vertical-align: top;\n",
       "    }\n",
       "\n",
       "    .dataframe thead th {\n",
       "        text-align: right;\n",
       "    }\n",
       "</style>\n",
       "<table border=\"1\" class=\"dataframe\">\n",
       "  <thead>\n",
       "    <tr style=\"text-align: right;\">\n",
       "      <th></th>\n",
       "      <th>DisProt entry ID</th>\n",
       "      <th>UniProt ACC</th>\n",
       "      <th>Start</th>\n",
       "      <th>End</th>\n",
       "      <th>Reference</th>\n",
       "      <th>Length</th>\n",
       "    </tr>\n",
       "  </thead>\n",
       "  <tbody>\n",
       "    <tr>\n",
       "      <th>0</th>\n",
       "      <td>DP00342</td>\n",
       "      <td>P09883</td>\n",
       "      <td>1</td>\n",
       "      <td>83</td>\n",
       "      <td>pmid:12054823</td>\n",
       "      <td>582</td>\n",
       "    </tr>\n",
       "    <tr>\n",
       "      <th>1</th>\n",
       "      <td>DP00389</td>\n",
       "      <td>P09983</td>\n",
       "      <td>962</td>\n",
       "      <td>1023</td>\n",
       "      <td>pmid:7703231</td>\n",
       "      <td>1023</td>\n",
       "    </tr>\n",
       "    <tr>\n",
       "      <th>2</th>\n",
       "      <td>DP00461</td>\n",
       "      <td>P08083</td>\n",
       "      <td>67</td>\n",
       "      <td>90</td>\n",
       "      <td>pmid:9687368</td>\n",
       "      <td>387</td>\n",
       "    </tr>\n",
       "  </tbody>\n",
       "</table>\n",
       "</div>"
      ],
      "text/plain": [
       "  DisProt entry ID UniProt ACC  Start   End      Reference  Length\n",
       "0          DP00342      P09883      1    83  pmid:12054823     582\n",
       "1          DP00389      P09983    962  1023   pmid:7703231    1023\n",
       "2          DP00461      P08083     67    90   pmid:9687368     387"
      ]
     },
     "execution_count": 125,
     "metadata": {},
     "output_type": "execute_result"
    }
   ],
   "source": [
    "coli.head(3)"
   ]
  },
  {
   "cell_type": "code",
   "execution_count": 126,
   "id": "d88e6b1c-be32-4051-9c3f-e3824c167e80",
   "metadata": {},
   "outputs": [
    {
     "data": {
      "text/html": [
       "<div>\n",
       "<style scoped>\n",
       "    .dataframe tbody tr th:only-of-type {\n",
       "        vertical-align: middle;\n",
       "    }\n",
       "\n",
       "    .dataframe tbody tr th {\n",
       "        vertical-align: top;\n",
       "    }\n",
       "\n",
       "    .dataframe thead th {\n",
       "        text-align: right;\n",
       "    }\n",
       "</style>\n",
       "<table border=\"1\" class=\"dataframe\">\n",
       "  <thead>\n",
       "    <tr style=\"text-align: right;\">\n",
       "      <th></th>\n",
       "      <th>DisProt entry ID</th>\n",
       "      <th>UniProt ACC</th>\n",
       "      <th>Start</th>\n",
       "      <th>End</th>\n",
       "      <th>Reference</th>\n",
       "      <th>Length</th>\n",
       "    </tr>\n",
       "  </thead>\n",
       "  <tbody>\n",
       "    <tr>\n",
       "      <th>0</th>\n",
       "      <td>DP00342</td>\n",
       "      <td>P09883</td>\n",
       "      <td>1</td>\n",
       "      <td>83</td>\n",
       "      <td>pmid:12054823</td>\n",
       "      <td>582</td>\n",
       "    </tr>\n",
       "    <tr>\n",
       "      <th>1</th>\n",
       "      <td>DP00389</td>\n",
       "      <td>P09983</td>\n",
       "      <td>962</td>\n",
       "      <td>1023</td>\n",
       "      <td>pmid:7703231</td>\n",
       "      <td>1023</td>\n",
       "    </tr>\n",
       "    <tr>\n",
       "      <th>2</th>\n",
       "      <td>DP00461</td>\n",
       "      <td>P08083</td>\n",
       "      <td>67</td>\n",
       "      <td>90</td>\n",
       "      <td>pmid:9687368</td>\n",
       "      <td>387</td>\n",
       "    </tr>\n",
       "    <tr>\n",
       "      <th>3</th>\n",
       "      <td>DP00575</td>\n",
       "      <td>P77072</td>\n",
       "      <td>1</td>\n",
       "      <td>20</td>\n",
       "      <td>pmid:15222745</td>\n",
       "      <td>212</td>\n",
       "    </tr>\n",
       "    <tr>\n",
       "      <th>4</th>\n",
       "      <td>DP00656</td>\n",
       "      <td>P07674</td>\n",
       "      <td>1</td>\n",
       "      <td>64</td>\n",
       "      <td>pmid:20200158</td>\n",
       "      <td>358</td>\n",
       "    </tr>\n",
       "  </tbody>\n",
       "</table>\n",
       "</div>"
      ],
      "text/plain": [
       "  DisProt entry ID UniProt ACC  Start   End      Reference  Length\n",
       "0          DP00342      P09883      1    83  pmid:12054823     582\n",
       "1          DP00389      P09983    962  1023   pmid:7703231    1023\n",
       "2          DP00461      P08083     67    90   pmid:9687368     387\n",
       "3          DP00575      P77072      1    20  pmid:15222745     212\n",
       "4          DP00656      P07674      1    64  pmid:20200158     358"
      ]
     },
     "execution_count": 126,
     "metadata": {},
     "output_type": "execute_result"
    }
   ],
   "source": [
    "coli.head()\n"
   ]
  },
  {
   "cell_type": "code",
   "execution_count": 127,
   "id": "202972b8-dd8f-4440-aa0f-032dcebacab2",
   "metadata": {},
   "outputs": [
    {
     "data": {
      "text/html": [
       "<div>\n",
       "<style scoped>\n",
       "    .dataframe tbody tr th:only-of-type {\n",
       "        vertical-align: middle;\n",
       "    }\n",
       "\n",
       "    .dataframe tbody tr th {\n",
       "        vertical-align: top;\n",
       "    }\n",
       "\n",
       "    .dataframe thead th {\n",
       "        text-align: right;\n",
       "    }\n",
       "</style>\n",
       "<table border=\"1\" class=\"dataframe\">\n",
       "  <thead>\n",
       "    <tr style=\"text-align: right;\">\n",
       "      <th></th>\n",
       "      <th>0</th>\n",
       "      <th>1</th>\n",
       "      <th>2</th>\n",
       "      <th>3</th>\n",
       "      <th>4</th>\n",
       "      <th>5</th>\n",
       "      <th>6</th>\n",
       "    </tr>\n",
       "  </thead>\n",
       "  <tbody>\n",
       "    <tr>\n",
       "      <th>End</th>\n",
       "      <td>83</td>\n",
       "      <td>1023</td>\n",
       "      <td>90</td>\n",
       "      <td>20</td>\n",
       "      <td>64</td>\n",
       "      <td>83</td>\n",
       "      <td>30</td>\n",
       "    </tr>\n",
       "    <tr>\n",
       "      <th>Reference</th>\n",
       "      <td>pmid:12054823</td>\n",
       "      <td>pmid:7703231</td>\n",
       "      <td>pmid:9687368</td>\n",
       "      <td>pmid:15222745</td>\n",
       "      <td>pmid:20200158</td>\n",
       "      <td>pmid:11743881</td>\n",
       "      <td>pmid:15943811</td>\n",
       "    </tr>\n",
       "    <tr>\n",
       "      <th>Length</th>\n",
       "      <td>582</td>\n",
       "      <td>1023</td>\n",
       "      <td>387</td>\n",
       "      <td>212</td>\n",
       "      <td>358</td>\n",
       "      <td>83</td>\n",
       "      <td>192</td>\n",
       "    </tr>\n",
       "  </tbody>\n",
       "</table>\n",
       "</div>"
      ],
      "text/plain": [
       "                       0             1             2              3  \\\n",
       "End                   83          1023            90             20   \n",
       "Reference  pmid:12054823  pmid:7703231  pmid:9687368  pmid:15222745   \n",
       "Length               582          1023           387            212   \n",
       "\n",
       "                       4              5              6  \n",
       "End                   64             83             30  \n",
       "Reference  pmid:20200158  pmid:11743881  pmid:15943811  \n",
       "Length               358             83            192  "
      ]
     },
     "execution_count": 127,
     "metadata": {},
     "output_type": "execute_result"
    }
   ],
   "source": [
    "coli_transposed = coli.T\n",
    "coli_transposed.tail(3)"
   ]
  },
  {
   "cell_type": "code",
   "execution_count": 7,
   "id": "6a6cc611-375b-4f06-8850-1f4dcd0eb591",
   "metadata": {},
   "outputs": [],
   "source": [
    "data = pd.read_csv(\"data/DisProt_data_Caenorhabditis-elegans.csv\", index_col=\"UniProt ACC\")\n"
   ]
  },
  {
   "cell_type": "code",
   "execution_count": 8,
   "id": "a24bae09-f09d-4956-bc04-e6876544dd7c",
   "metadata": {},
   "outputs": [
    {
     "data": {
      "text/html": [
       "<div>\n",
       "<style scoped>\n",
       "    .dataframe tbody tr th:only-of-type {\n",
       "        vertical-align: middle;\n",
       "    }\n",
       "\n",
       "    .dataframe tbody tr th {\n",
       "        vertical-align: top;\n",
       "    }\n",
       "\n",
       "    .dataframe thead th {\n",
       "        text-align: right;\n",
       "    }\n",
       "</style>\n",
       "<table border=\"1\" class=\"dataframe\">\n",
       "  <thead>\n",
       "    <tr style=\"text-align: right;\">\n",
       "      <th></th>\n",
       "      <th>DisProt entry ID</th>\n",
       "      <th>Start</th>\n",
       "      <th>End</th>\n",
       "      <th>Reference</th>\n",
       "      <th>Length</th>\n",
       "    </tr>\n",
       "    <tr>\n",
       "      <th>UniProt ACC</th>\n",
       "      <th></th>\n",
       "      <th></th>\n",
       "      <th></th>\n",
       "      <th></th>\n",
       "      <th></th>\n",
       "    </tr>\n",
       "  </thead>\n",
       "  <tbody>\n",
       "    <tr>\n",
       "      <th>Q22472</th>\n",
       "      <td>DP00613</td>\n",
       "      <td>1</td>\n",
       "      <td>378</td>\n",
       "      <td>pmid:19899809</td>\n",
       "      <td>378</td>\n",
       "    </tr>\n",
       "    <tr>\n",
       "      <th>Q9NHC3</th>\n",
       "      <td>DP00868</td>\n",
       "      <td>102</td>\n",
       "      <td>117</td>\n",
       "      <td>pmid:21616056</td>\n",
       "      <td>279</td>\n",
       "    </tr>\n",
       "    <tr>\n",
       "      <th>G4SLH0</th>\n",
       "      <td>DP01090</td>\n",
       "      <td>3546</td>\n",
       "      <td>3795</td>\n",
       "      <td>pmid:20346955</td>\n",
       "      <td>18562</td>\n",
       "    </tr>\n",
       "    <tr>\n",
       "      <th>D0PV95</th>\n",
       "      <td>DP01113</td>\n",
       "      <td>1</td>\n",
       "      <td>168</td>\n",
       "      <td>pmid:26015579</td>\n",
       "      <td>708</td>\n",
       "    </tr>\n",
       "    <tr>\n",
       "      <th>Q9N4U5</th>\n",
       "      <td>DP01313</td>\n",
       "      <td>163</td>\n",
       "      <td>223</td>\n",
       "      <td>pmid:27150041</td>\n",
       "      <td>547</td>\n",
       "    </tr>\n",
       "    <tr>\n",
       "      <th>O61667</th>\n",
       "      <td>DP01407</td>\n",
       "      <td>93</td>\n",
       "      <td>106</td>\n",
       "      <td>pmid:15383288</td>\n",
       "      <td>106</td>\n",
       "    </tr>\n",
       "    <tr>\n",
       "      <th>P54936</th>\n",
       "      <td>DP01436</td>\n",
       "      <td>423</td>\n",
       "      <td>487</td>\n",
       "      <td>pmid:12110687</td>\n",
       "      <td>961</td>\n",
       "    </tr>\n",
       "    <tr>\n",
       "      <th>P90976</th>\n",
       "      <td>DP01437</td>\n",
       "      <td>115</td>\n",
       "      <td>180</td>\n",
       "      <td>pmid:12110687</td>\n",
       "      <td>297</td>\n",
       "    </tr>\n",
       "    <tr>\n",
       "      <th>Q9XTY3</th>\n",
       "      <td>DP01558</td>\n",
       "      <td>17</td>\n",
       "      <td>211</td>\n",
       "      <td>pmid:22947085</td>\n",
       "      <td>211</td>\n",
       "    </tr>\n",
       "    <tr>\n",
       "      <th>Q09514</th>\n",
       "      <td>DP01973</td>\n",
       "      <td>1</td>\n",
       "      <td>18</td>\n",
       "      <td>pmid:26621324</td>\n",
       "      <td>266</td>\n",
       "    </tr>\n",
       "    <tr>\n",
       "      <th>P30429</th>\n",
       "      <td>DP02025</td>\n",
       "      <td>1</td>\n",
       "      <td>105</td>\n",
       "      <td>pmid:16208361</td>\n",
       "      <td>571</td>\n",
       "    </tr>\n",
       "    <tr>\n",
       "      <th>Q9U3S5</th>\n",
       "      <td>DP02216</td>\n",
       "      <td>1</td>\n",
       "      <td>100</td>\n",
       "      <td>pmid:30036386</td>\n",
       "      <td>1050</td>\n",
       "    </tr>\n",
       "    <tr>\n",
       "      <th>Q8IG33</th>\n",
       "      <td>DP02313</td>\n",
       "      <td>18</td>\n",
       "      <td>88</td>\n",
       "      <td>pmid:21397184</td>\n",
       "      <td>186</td>\n",
       "    </tr>\n",
       "  </tbody>\n",
       "</table>\n",
       "</div>"
      ],
      "text/plain": [
       "            DisProt entry ID  Start   End      Reference  Length\n",
       "UniProt ACC                                                     \n",
       "Q22472               DP00613      1   378  pmid:19899809     378\n",
       "Q9NHC3               DP00868    102   117  pmid:21616056     279\n",
       "G4SLH0               DP01090   3546  3795  pmid:20346955   18562\n",
       "D0PV95               DP01113      1   168  pmid:26015579     708\n",
       "Q9N4U5               DP01313    163   223  pmid:27150041     547\n",
       "O61667               DP01407     93   106  pmid:15383288     106\n",
       "P54936               DP01436    423   487  pmid:12110687     961\n",
       "P90976               DP01437    115   180  pmid:12110687     297\n",
       "Q9XTY3               DP01558     17   211  pmid:22947085     211\n",
       "Q09514               DP01973      1    18  pmid:26621324     266\n",
       "P30429               DP02025      1   105  pmid:16208361     571\n",
       "Q9U3S5               DP02216      1   100  pmid:30036386    1050\n",
       "Q8IG33               DP02313     18    88  pmid:21397184     186"
      ]
     },
     "execution_count": 8,
     "metadata": {},
     "output_type": "execute_result"
    }
   ],
   "source": [
    "data"
   ]
  },
  {
   "cell_type": "code",
   "execution_count": 11,
   "id": "49173498-81f7-40f1-be36-85d64876393c",
   "metadata": {},
   "outputs": [
    {
     "data": {
      "text/plain": [
       "'DP00613'"
      ]
     },
     "execution_count": 11,
     "metadata": {},
     "output_type": "execute_result"
    }
   ],
   "source": [
    "data.iloc[0, 0]"
   ]
  },
  {
   "cell_type": "code",
   "execution_count": 14,
   "id": "e7c23c02-8a5d-455b-be1f-fbf6fa286616",
   "metadata": {},
   "outputs": [
    {
     "data": {
      "text/plain": [
       "1"
      ]
     },
     "execution_count": 14,
     "metadata": {},
     "output_type": "execute_result"
    }
   ],
   "source": [
    "data.loc[\"D0PV95\", \"Start\"]"
   ]
  },
  {
   "cell_type": "code",
   "execution_count": 15,
   "id": "36511c8b-09c8-430a-952c-d64f0a2b6738",
   "metadata": {},
   "outputs": [
    {
     "data": {
      "text/plain": [
       "DisProt entry ID          DP01113\n",
       "Start                           1\n",
       "End                           168\n",
       "Reference           pmid:26015579\n",
       "Length                        708\n",
       "Name: D0PV95, dtype: object"
      ]
     },
     "execution_count": 15,
     "metadata": {},
     "output_type": "execute_result"
    }
   ],
   "source": [
    "data.loc[\"D0PV95\", :]"
   ]
  },
  {
   "cell_type": "code",
   "execution_count": 16,
   "id": "c12678b4-15b3-4023-8b2b-8ad6329d6bfa",
   "metadata": {},
   "outputs": [
    {
     "data": {
      "text/plain": [
       "UniProt ACC\n",
       "Q22472      378\n",
       "Q9NHC3      279\n",
       "G4SLH0    18562\n",
       "D0PV95      708\n",
       "Q9N4U5      547\n",
       "O61667      106\n",
       "P54936      961\n",
       "P90976      297\n",
       "Q9XTY3      211\n",
       "Q09514      266\n",
       "P30429      571\n",
       "Q9U3S5     1050\n",
       "Q8IG33      186\n",
       "Name: Length, dtype: int64"
      ]
     },
     "execution_count": 16,
     "metadata": {},
     "output_type": "execute_result"
    }
   ],
   "source": [
    "data.loc[:, \"Length\"]"
   ]
  },
  {
   "cell_type": "code",
   "execution_count": 20,
   "id": "f644bb90-60f3-4624-9173-93202ecd5a47",
   "metadata": {},
   "outputs": [
    {
     "data": {
      "text/html": [
       "<div>\n",
       "<style scoped>\n",
       "    .dataframe tbody tr th:only-of-type {\n",
       "        vertical-align: middle;\n",
       "    }\n",
       "\n",
       "    .dataframe tbody tr th {\n",
       "        vertical-align: top;\n",
       "    }\n",
       "\n",
       "    .dataframe thead th {\n",
       "        text-align: right;\n",
       "    }\n",
       "</style>\n",
       "<table border=\"1\" class=\"dataframe\">\n",
       "  <thead>\n",
       "    <tr style=\"text-align: right;\">\n",
       "      <th></th>\n",
       "      <th>Start</th>\n",
       "      <th>End</th>\n",
       "    </tr>\n",
       "    <tr>\n",
       "      <th>UniProt ACC</th>\n",
       "      <th></th>\n",
       "      <th></th>\n",
       "    </tr>\n",
       "  </thead>\n",
       "  <tbody>\n",
       "    <tr>\n",
       "      <th>P30429</th>\n",
       "      <td>1</td>\n",
       "      <td>105</td>\n",
       "    </tr>\n",
       "    <tr>\n",
       "      <th>Q9U3S5</th>\n",
       "      <td>1</td>\n",
       "      <td>100</td>\n",
       "    </tr>\n",
       "    <tr>\n",
       "      <th>Q8IG33</th>\n",
       "      <td>18</td>\n",
       "      <td>88</td>\n",
       "    </tr>\n",
       "  </tbody>\n",
       "</table>\n",
       "</div>"
      ],
      "text/plain": [
       "             Start  End\n",
       "UniProt ACC            \n",
       "P30429           1  105\n",
       "Q9U3S5           1  100\n",
       "Q8IG33          18   88"
      ]
     },
     "execution_count": 20,
     "metadata": {},
     "output_type": "execute_result"
    }
   ],
   "source": [
    "data.iloc[-3:, 1:3]"
   ]
  },
  {
   "cell_type": "code",
   "execution_count": 21,
   "id": "215797e0-ac79-4748-8bfc-38b11506cbc8",
   "metadata": {},
   "outputs": [
    {
     "data": {
      "text/html": [
       "<div>\n",
       "<style scoped>\n",
       "    .dataframe tbody tr th:only-of-type {\n",
       "        vertical-align: middle;\n",
       "    }\n",
       "\n",
       "    .dataframe tbody tr th {\n",
       "        vertical-align: top;\n",
       "    }\n",
       "\n",
       "    .dataframe thead th {\n",
       "        text-align: right;\n",
       "    }\n",
       "</style>\n",
       "<table border=\"1\" class=\"dataframe\">\n",
       "  <thead>\n",
       "    <tr style=\"text-align: right;\">\n",
       "      <th></th>\n",
       "      <th>Start</th>\n",
       "      <th>End</th>\n",
       "    </tr>\n",
       "    <tr>\n",
       "      <th>UniProt ACC</th>\n",
       "      <th></th>\n",
       "      <th></th>\n",
       "    </tr>\n",
       "  </thead>\n",
       "  <tbody>\n",
       "    <tr>\n",
       "      <th>P30429</th>\n",
       "      <td>1</td>\n",
       "      <td>105</td>\n",
       "    </tr>\n",
       "    <tr>\n",
       "      <th>Q9U3S5</th>\n",
       "      <td>1</td>\n",
       "      <td>100</td>\n",
       "    </tr>\n",
       "    <tr>\n",
       "      <th>Q8IG33</th>\n",
       "      <td>18</td>\n",
       "      <td>88</td>\n",
       "    </tr>\n",
       "  </tbody>\n",
       "</table>\n",
       "</div>"
      ],
      "text/plain": [
       "             Start  End\n",
       "UniProt ACC            \n",
       "P30429           1  105\n",
       "Q9U3S5           1  100\n",
       "Q8IG33          18   88"
      ]
     },
     "execution_count": 21,
     "metadata": {},
     "output_type": "execute_result"
    }
   ],
   "source": [
    "data.loc[\"P30429\":\"Q8IG33\", \"Start\":\"End\"]"
   ]
  },
  {
   "cell_type": "code",
   "execution_count": 22,
   "id": "8ff57a81-19f3-4764-ac83-a2eec676e41e",
   "metadata": {},
   "outputs": [],
   "source": [
    "selection = data.loc[\"P30429\":\"Q8IG33\", \"Start\":\"End\"]"
   ]
  },
  {
   "cell_type": "code",
   "execution_count": 23,
   "id": "ba5f7134-1545-4105-aa13-b57ce2aea88e",
   "metadata": {},
   "outputs": [
    {
     "data": {
      "text/plain": [
       "Start     18\n",
       "End      105\n",
       "dtype: int64"
      ]
     },
     "execution_count": 23,
     "metadata": {},
     "output_type": "execute_result"
    }
   ],
   "source": [
    "selection.max()"
   ]
  },
  {
   "cell_type": "code",
   "execution_count": 25,
   "id": "e5b9979e-6540-4587-beb6-618fe7c41169",
   "metadata": {},
   "outputs": [
    {
     "data": {
      "text/plain": [
       "UniProt ACC\n",
       "P30429     True\n",
       "Q9U3S5     True\n",
       "Q8IG33    False\n",
       "Name: Length, dtype: bool"
      ]
     },
     "execution_count": 25,
     "metadata": {},
     "output_type": "execute_result"
    }
   ],
   "source": [
    "selection_length= data.loc[\"P30429\":\"Q8IG33\", \"Length\"]\n",
    "selection_length > 200"
   ]
  },
  {
   "cell_type": "code",
   "execution_count": 28,
   "id": "77ed82f5-1bd3-43cc-b4f1-2fbd55e50fdc",
   "metadata": {},
   "outputs": [
    {
     "data": {
      "text/plain": [
       "UniProt ACC\n",
       "Q22472      378\n",
       "Q9NHC3      279\n",
       "G4SLH0    18562\n",
       "D0PV95      708\n",
       "Q9N4U5      547\n",
       "O61667      106\n",
       "P54936      961\n",
       "P90976      297\n",
       "Q9XTY3      211\n",
       "Q09514      266\n",
       "P30429      571\n",
       "Q9U3S5     1050\n",
       "Q8IG33      186\n",
       "Name: Length, dtype: int64"
      ]
     },
     "execution_count": 28,
     "metadata": {},
     "output_type": "execute_result"
    }
   ],
   "source": [
    "long_rows = data.loc[:, \"Length\"]\n",
    "long_rows"
   ]
  },
  {
   "cell_type": "code",
   "execution_count": 29,
   "id": "da7691da-1c0b-4d32-9e8c-347128b25354",
   "metadata": {},
   "outputs": [
    {
     "data": {
      "text/plain": [
       "1855.5384615384614"
      ]
     },
     "execution_count": 29,
     "metadata": {},
     "output_type": "execute_result"
    }
   ],
   "source": [
    "long_rows.mean()\n"
   ]
  },
  {
   "cell_type": "code",
   "execution_count": 30,
   "id": "493aebbc-1dc2-4739-ad4e-ed77da597421",
   "metadata": {},
   "outputs": [],
   "source": [
    "mean_lengths= long_rows.mean()\n"
   ]
  },
  {
   "cell_type": "code",
   "execution_count": 31,
   "id": "18cd03ce-714f-407f-9628-7855bcf9a387",
   "metadata": {},
   "outputs": [
    {
     "data": {
      "text/plain": [
       "UniProt ACC\n",
       "Q22472    False\n",
       "Q9NHC3    False\n",
       "G4SLH0     True\n",
       "D0PV95    False\n",
       "Q9N4U5    False\n",
       "O61667    False\n",
       "P54936    False\n",
       "P90976    False\n",
       "Q9XTY3    False\n",
       "Q09514    False\n",
       "P30429    False\n",
       "Q9U3S5    False\n",
       "Q8IG33    False\n",
       "Name: Length, dtype: bool"
      ]
     },
     "execution_count": 31,
     "metadata": {},
     "output_type": "execute_result"
    }
   ],
   "source": [
    "long_rows > mean_lengths"
   ]
  },
  {
   "cell_type": "code",
   "execution_count": 32,
   "id": "e4fffe8d-f86f-4b67-b9ee-bbc851e845b9",
   "metadata": {},
   "outputs": [
    {
     "data": {
      "text/plain": [
       "UniProt ACC\n",
       "Q22472    False\n",
       "Q9NHC3    False\n",
       "G4SLH0     True\n",
       "D0PV95    False\n",
       "Q9N4U5    False\n",
       "O61667    False\n",
       "P54936    False\n",
       "P90976    False\n",
       "Q9XTY3    False\n",
       "Q09514    False\n",
       "P30429    False\n",
       "Q9U3S5    False\n",
       "Q8IG33    False\n",
       "Name: Length, dtype: bool"
      ]
     },
     "execution_count": 32,
     "metadata": {},
     "output_type": "execute_result"
    }
   ],
   "source": [
    "long_rows = data.loc[:, \"Length\"]\n",
    "mean_lengths= long_rows.mean()\n",
    "long_rows > mean_lengths\n"
   ]
  },
  {
   "cell_type": "markdown",
   "id": "2fc10a9b-079b-4357-8d4f-0b4cf1ebeb02",
   "metadata": {},
   "source": [
    "## More practical way of doing it or more concise\n"
   ]
  },
  {
   "cell_type": "code",
   "execution_count": 35,
   "id": "ce45a52f-dc35-4204-8191-6519912ddeef",
   "metadata": {},
   "outputs": [
    {
     "data": {
      "text/plain": [
       "UniProt ACC\n",
       "Q22472    False\n",
       "Q9NHC3    False\n",
       "G4SLH0     True\n",
       "D0PV95    False\n",
       "Q9N4U5    False\n",
       "O61667    False\n",
       "P54936    False\n",
       "P90976    False\n",
       "Q9XTY3    False\n",
       "Q09514    False\n",
       "P30429    False\n",
       "Q9U3S5    False\n",
       "Q8IG33    False\n",
       "Name: Length, dtype: bool"
      ]
     },
     "execution_count": 35,
     "metadata": {},
     "output_type": "execute_result"
    }
   ],
   "source": [
    "mask_higher = data.loc[:, \"Length\"] > data.loc[:, \"Length\"].mean()\n",
    "mask_higher"
   ]
  },
  {
   "cell_type": "code",
   "execution_count": 36,
   "id": "7c2abb02-1207-495a-a6ad-bdb542475dd8",
   "metadata": {},
   "outputs": [
    {
     "data": {
      "text/html": [
       "<div>\n",
       "<style scoped>\n",
       "    .dataframe tbody tr th:only-of-type {\n",
       "        vertical-align: middle;\n",
       "    }\n",
       "\n",
       "    .dataframe tbody tr th {\n",
       "        vertical-align: top;\n",
       "    }\n",
       "\n",
       "    .dataframe thead th {\n",
       "        text-align: right;\n",
       "    }\n",
       "</style>\n",
       "<table border=\"1\" class=\"dataframe\">\n",
       "  <thead>\n",
       "    <tr style=\"text-align: right;\">\n",
       "      <th></th>\n",
       "      <th>DisProt entry ID</th>\n",
       "      <th>Start</th>\n",
       "      <th>End</th>\n",
       "      <th>Reference</th>\n",
       "      <th>Length</th>\n",
       "    </tr>\n",
       "    <tr>\n",
       "      <th>UniProt ACC</th>\n",
       "      <th></th>\n",
       "      <th></th>\n",
       "      <th></th>\n",
       "      <th></th>\n",
       "      <th></th>\n",
       "    </tr>\n",
       "  </thead>\n",
       "  <tbody>\n",
       "    <tr>\n",
       "      <th>Q22472</th>\n",
       "      <td>DP00613</td>\n",
       "      <td>1</td>\n",
       "      <td>378</td>\n",
       "      <td>pmid:19899809</td>\n",
       "      <td>378</td>\n",
       "    </tr>\n",
       "    <tr>\n",
       "      <th>Q9NHC3</th>\n",
       "      <td>DP00868</td>\n",
       "      <td>102</td>\n",
       "      <td>117</td>\n",
       "      <td>pmid:21616056</td>\n",
       "      <td>279</td>\n",
       "    </tr>\n",
       "    <tr>\n",
       "      <th>D0PV95</th>\n",
       "      <td>DP01113</td>\n",
       "      <td>1</td>\n",
       "      <td>168</td>\n",
       "      <td>pmid:26015579</td>\n",
       "      <td>708</td>\n",
       "    </tr>\n",
       "    <tr>\n",
       "      <th>Q9N4U5</th>\n",
       "      <td>DP01313</td>\n",
       "      <td>163</td>\n",
       "      <td>223</td>\n",
       "      <td>pmid:27150041</td>\n",
       "      <td>547</td>\n",
       "    </tr>\n",
       "    <tr>\n",
       "      <th>O61667</th>\n",
       "      <td>DP01407</td>\n",
       "      <td>93</td>\n",
       "      <td>106</td>\n",
       "      <td>pmid:15383288</td>\n",
       "      <td>106</td>\n",
       "    </tr>\n",
       "    <tr>\n",
       "      <th>P54936</th>\n",
       "      <td>DP01436</td>\n",
       "      <td>423</td>\n",
       "      <td>487</td>\n",
       "      <td>pmid:12110687</td>\n",
       "      <td>961</td>\n",
       "    </tr>\n",
       "    <tr>\n",
       "      <th>P90976</th>\n",
       "      <td>DP01437</td>\n",
       "      <td>115</td>\n",
       "      <td>180</td>\n",
       "      <td>pmid:12110687</td>\n",
       "      <td>297</td>\n",
       "    </tr>\n",
       "    <tr>\n",
       "      <th>Q9XTY3</th>\n",
       "      <td>DP01558</td>\n",
       "      <td>17</td>\n",
       "      <td>211</td>\n",
       "      <td>pmid:22947085</td>\n",
       "      <td>211</td>\n",
       "    </tr>\n",
       "    <tr>\n",
       "      <th>Q09514</th>\n",
       "      <td>DP01973</td>\n",
       "      <td>1</td>\n",
       "      <td>18</td>\n",
       "      <td>pmid:26621324</td>\n",
       "      <td>266</td>\n",
       "    </tr>\n",
       "    <tr>\n",
       "      <th>P30429</th>\n",
       "      <td>DP02025</td>\n",
       "      <td>1</td>\n",
       "      <td>105</td>\n",
       "      <td>pmid:16208361</td>\n",
       "      <td>571</td>\n",
       "    </tr>\n",
       "    <tr>\n",
       "      <th>Q9U3S5</th>\n",
       "      <td>DP02216</td>\n",
       "      <td>1</td>\n",
       "      <td>100</td>\n",
       "      <td>pmid:30036386</td>\n",
       "      <td>1050</td>\n",
       "    </tr>\n",
       "    <tr>\n",
       "      <th>Q8IG33</th>\n",
       "      <td>DP02313</td>\n",
       "      <td>18</td>\n",
       "      <td>88</td>\n",
       "      <td>pmid:21397184</td>\n",
       "      <td>186</td>\n",
       "    </tr>\n",
       "  </tbody>\n",
       "</table>\n",
       "</div>"
      ],
      "text/plain": [
       "            DisProt entry ID  Start  End      Reference  Length\n",
       "UniProt ACC                                                    \n",
       "Q22472               DP00613      1  378  pmid:19899809     378\n",
       "Q9NHC3               DP00868    102  117  pmid:21616056     279\n",
       "D0PV95               DP01113      1  168  pmid:26015579     708\n",
       "Q9N4U5               DP01313    163  223  pmid:27150041     547\n",
       "O61667               DP01407     93  106  pmid:15383288     106\n",
       "P54936               DP01436    423  487  pmid:12110687     961\n",
       "P90976               DP01437    115  180  pmid:12110687     297\n",
       "Q9XTY3               DP01558     17  211  pmid:22947085     211\n",
       "Q09514               DP01973      1   18  pmid:26621324     266\n",
       "P30429               DP02025      1  105  pmid:16208361     571\n",
       "Q9U3S5               DP02216      1  100  pmid:30036386    1050\n",
       "Q8IG33               DP02313     18   88  pmid:21397184     186"
      ]
     },
     "execution_count": 36,
     "metadata": {},
     "output_type": "execute_result"
    }
   ],
   "source": [
    "new_data = data.drop(\"G4SLH0\")\n",
    "new_data"
   ]
  },
  {
   "cell_type": "code",
   "execution_count": 37,
   "id": "f9009ad7-450e-4e81-a44c-b8ac460f154e",
   "metadata": {},
   "outputs": [
    {
     "data": {
      "text/plain": [
       "UniProt ACC\n",
       "Q22472      378\n",
       "Q9NHC3      279\n",
       "G4SLH0    18562\n",
       "D0PV95      708\n",
       "Q9N4U5      547\n",
       "O61667      106\n",
       "P54936      961\n",
       "P90976      297\n",
       "Q9XTY3      211\n",
       "Q09514      266\n",
       "P30429      571\n",
       "Q9U3S5     1050\n",
       "Q8IG33      186\n",
       "Name: Length, dtype: int64"
      ]
     },
     "execution_count": 37,
     "metadata": {},
     "output_type": "execute_result"
    }
   ],
   "source": [
    "data[\"Length\"]"
   ]
  },
  {
   "cell_type": "code",
   "execution_count": 41,
   "id": "993d9181-ed6f-4a44-b2fd-2b6ff435430a",
   "metadata": {},
   "outputs": [
    {
     "data": {
      "text/plain": [
       "UniProt ACC\n",
       "Q22472       1\n",
       "Q9NHC3     102\n",
       "G4SLH0    3546\n",
       "D0PV95       1\n",
       "Q9N4U5     163\n",
       "O61667      93\n",
       "P54936     423\n",
       "P90976     115\n",
       "Q9XTY3      17\n",
       "Q09514       1\n",
       "P30429       1\n",
       "Q9U3S5       1\n",
       "Q8IG33      18\n",
       "Name: Start, dtype: int64"
      ]
     },
     "execution_count": 41,
     "metadata": {},
     "output_type": "execute_result"
    }
   ],
   "source": [
    "start_column = data.loc[:, \"Start\"]\n",
    "start_column"
   ]
  },
  {
   "cell_type": "code",
   "execution_count": 42,
   "id": "663deab8-7066-4fa2-b636-b4fa8b6dd758",
   "metadata": {},
   "outputs": [
    {
     "data": {
      "text/html": [
       "<div>\n",
       "<style scoped>\n",
       "    .dataframe tbody tr th:only-of-type {\n",
       "        vertical-align: middle;\n",
       "    }\n",
       "\n",
       "    .dataframe tbody tr th {\n",
       "        vertical-align: top;\n",
       "    }\n",
       "\n",
       "    .dataframe thead th {\n",
       "        text-align: right;\n",
       "    }\n",
       "</style>\n",
       "<table border=\"1\" class=\"dataframe\">\n",
       "  <thead>\n",
       "    <tr style=\"text-align: right;\">\n",
       "      <th></th>\n",
       "      <th>UniProt ACC</th>\n",
       "      <th>Start</th>\n",
       "      <th>End</th>\n",
       "      <th>Reference</th>\n",
       "      <th>Length</th>\n",
       "    </tr>\n",
       "    <tr>\n",
       "      <th>DisProt entry ID</th>\n",
       "      <th></th>\n",
       "      <th></th>\n",
       "      <th></th>\n",
       "      <th></th>\n",
       "      <th></th>\n",
       "    </tr>\n",
       "  </thead>\n",
       "  <tbody>\n",
       "    <tr>\n",
       "      <th>DP00613</th>\n",
       "      <td>Q22472</td>\n",
       "      <td>1</td>\n",
       "      <td>378</td>\n",
       "      <td>pmid:19899809</td>\n",
       "      <td>378</td>\n",
       "    </tr>\n",
       "    <tr>\n",
       "      <th>DP00868</th>\n",
       "      <td>Q9NHC3</td>\n",
       "      <td>102</td>\n",
       "      <td>117</td>\n",
       "      <td>pmid:21616056</td>\n",
       "      <td>279</td>\n",
       "    </tr>\n",
       "    <tr>\n",
       "      <th>DP01090</th>\n",
       "      <td>G4SLH0</td>\n",
       "      <td>3546</td>\n",
       "      <td>3795</td>\n",
       "      <td>pmid:20346955</td>\n",
       "      <td>18562</td>\n",
       "    </tr>\n",
       "    <tr>\n",
       "      <th>DP01113</th>\n",
       "      <td>D0PV95</td>\n",
       "      <td>1</td>\n",
       "      <td>168</td>\n",
       "      <td>pmid:26015579</td>\n",
       "      <td>708</td>\n",
       "    </tr>\n",
       "    <tr>\n",
       "      <th>DP01313</th>\n",
       "      <td>Q9N4U5</td>\n",
       "      <td>163</td>\n",
       "      <td>223</td>\n",
       "      <td>pmid:27150041</td>\n",
       "      <td>547</td>\n",
       "    </tr>\n",
       "    <tr>\n",
       "      <th>DP01407</th>\n",
       "      <td>O61667</td>\n",
       "      <td>93</td>\n",
       "      <td>106</td>\n",
       "      <td>pmid:15383288</td>\n",
       "      <td>106</td>\n",
       "    </tr>\n",
       "    <tr>\n",
       "      <th>DP01436</th>\n",
       "      <td>P54936</td>\n",
       "      <td>423</td>\n",
       "      <td>487</td>\n",
       "      <td>pmid:12110687</td>\n",
       "      <td>961</td>\n",
       "    </tr>\n",
       "    <tr>\n",
       "      <th>DP01437</th>\n",
       "      <td>P90976</td>\n",
       "      <td>115</td>\n",
       "      <td>180</td>\n",
       "      <td>pmid:12110687</td>\n",
       "      <td>297</td>\n",
       "    </tr>\n",
       "    <tr>\n",
       "      <th>DP01558</th>\n",
       "      <td>Q9XTY3</td>\n",
       "      <td>17</td>\n",
       "      <td>211</td>\n",
       "      <td>pmid:22947085</td>\n",
       "      <td>211</td>\n",
       "    </tr>\n",
       "    <tr>\n",
       "      <th>DP01973</th>\n",
       "      <td>Q09514</td>\n",
       "      <td>1</td>\n",
       "      <td>18</td>\n",
       "      <td>pmid:26621324</td>\n",
       "      <td>266</td>\n",
       "    </tr>\n",
       "    <tr>\n",
       "      <th>DP02025</th>\n",
       "      <td>P30429</td>\n",
       "      <td>1</td>\n",
       "      <td>105</td>\n",
       "      <td>pmid:16208361</td>\n",
       "      <td>571</td>\n",
       "    </tr>\n",
       "    <tr>\n",
       "      <th>DP02216</th>\n",
       "      <td>Q9U3S5</td>\n",
       "      <td>1</td>\n",
       "      <td>100</td>\n",
       "      <td>pmid:30036386</td>\n",
       "      <td>1050</td>\n",
       "    </tr>\n",
       "    <tr>\n",
       "      <th>DP02313</th>\n",
       "      <td>Q8IG33</td>\n",
       "      <td>18</td>\n",
       "      <td>88</td>\n",
       "      <td>pmid:21397184</td>\n",
       "      <td>186</td>\n",
       "    </tr>\n",
       "  </tbody>\n",
       "</table>\n",
       "</div>"
      ],
      "text/plain": [
       "                 UniProt ACC  Start   End      Reference  Length\n",
       "DisProt entry ID                                                \n",
       "DP00613               Q22472      1   378  pmid:19899809     378\n",
       "DP00868               Q9NHC3    102   117  pmid:21616056     279\n",
       "DP01090               G4SLH0   3546  3795  pmid:20346955   18562\n",
       "DP01113               D0PV95      1   168  pmid:26015579     708\n",
       "DP01313               Q9N4U5    163   223  pmid:27150041     547\n",
       "DP01407               O61667     93   106  pmid:15383288     106\n",
       "DP01436               P54936    423   487  pmid:12110687     961\n",
       "DP01437               P90976    115   180  pmid:12110687     297\n",
       "DP01558               Q9XTY3     17   211  pmid:22947085     211\n",
       "DP01973               Q09514      1    18  pmid:26621324     266\n",
       "DP02025               P30429      1   105  pmid:16208361     571\n",
       "DP02216               Q9U3S5      1   100  pmid:30036386    1050\n",
       "DP02313               Q8IG33     18    88  pmid:21397184     186"
      ]
     },
     "execution_count": 42,
     "metadata": {},
     "output_type": "execute_result"
    }
   ],
   "source": [
    "data_disprot = pd.read_csv(\"data/DisProt_data_Caenorhabditis-elegans.csv\", index_col=\"DisProt entry ID\")\n",
    "data_disprot"
   ]
  },
  {
   "cell_type": "code",
   "execution_count": 44,
   "id": "a82904b8-d9de-4ce4-afa8-f3d0ce7e3f0d",
   "metadata": {},
   "outputs": [
    {
     "data": {
      "text/plain": [
       "UniProt ACC           Q22472\n",
       "Start                      1\n",
       "End                      378\n",
       "Reference      pmid:19899809\n",
       "Length                   378\n",
       "Name: DP00613, dtype: object"
      ]
     },
     "execution_count": 44,
     "metadata": {},
     "output_type": "execute_result"
    }
   ],
   "source": [
    "row_DP00613 = data_disprot.loc[\"DP00613\", :]\n",
    "row_DP00613"
   ]
  },
  {
   "cell_type": "code",
   "execution_count": 48,
   "id": "4f73bba2-8de7-4412-b071-4005428492b1",
   "metadata": {},
   "outputs": [
    {
     "data": {
      "text/plain": [
       "DisProt entry ID\n",
       "DP00613     True\n",
       "DP00868     True\n",
       "DP01090     True\n",
       "DP01113     True\n",
       "DP01313     True\n",
       "DP01407    False\n",
       "DP01436     True\n",
       "DP01437     True\n",
       "DP01558     True\n",
       "DP01973     True\n",
       "DP02025     True\n",
       "DP02216     True\n",
       "DP02313     True\n",
       "Name: Length, dtype: bool"
      ]
     },
     "execution_count": 48,
     "metadata": {},
     "output_type": "execute_result"
    }
   ],
   "source": [
    "longer_150 = data_disprot.loc[:, \"Length\"] > 150\n",
    "longer_150"
   ]
  },
  {
   "cell_type": "code",
   "execution_count": 59,
   "id": "61030b3b-06e4-4c18-bfde-3fc2b3228d06",
   "metadata": {},
   "outputs": [
    {
     "data": {
      "text/plain": [
       "DisProt entry ID\n",
       "DP00613    Q22472\n",
       "DP00868    Q9NHC3\n",
       "DP01090    G4SLH0\n",
       "DP01113    D0PV95\n",
       "DP01313    Q9N4U5\n",
       "DP01436    P54936\n",
       "DP01437    P90976\n",
       "DP01558    Q9XTY3\n",
       "DP01973    Q09514\n",
       "DP02025    P30429\n",
       "DP02216    Q9U3S5\n",
       "DP02313    Q8IG33\n",
       "Name: UniProt ACC, dtype: object"
      ]
     },
     "execution_count": 59,
     "metadata": {},
     "output_type": "execute_result"
    }
   ],
   "source": [
    "UniPof_longer150 = data_disprot.loc[data_disprot.loc[:, \"Length\"] > 150]\n",
    "UniPof_longer150[\"UniProt ACC\"]\n"
   ]
  },
  {
   "cell_type": "code",
   "execution_count": 60,
   "id": "988586c8-b4ba-465f-81bf-ddc315e31ee1",
   "metadata": {},
   "outputs": [
    {
     "data": {
      "text/plain": [
       "DisProt entry ID\n",
       "DP00613      378\n",
       "DP00868      279\n",
       "DP01090    18562\n",
       "DP01113      708\n",
       "DP01313      547\n",
       "DP01407      106\n",
       "DP01436      961\n",
       "DP01437      297\n",
       "DP01558      211\n",
       "DP01973      266\n",
       "DP02025      571\n",
       "DP02216     1050\n",
       "DP02313      186\n",
       "Name: Length, dtype: int64"
      ]
     },
     "execution_count": 60,
     "metadata": {},
     "output_type": "execute_result"
    }
   ],
   "source": [
    "data_disprot[\"Length\"]"
   ]
  },
  {
   "cell_type": "code",
   "execution_count": 61,
   "id": "bf9aff7a-3456-4fc6-87e9-9742244ca35a",
   "metadata": {},
   "outputs": [
    {
     "data": {
      "text/plain": [
       "DisProt entry ID\n",
       "DP00613      378\n",
       "DP00868      279\n",
       "DP01090    18562\n",
       "DP01113      708\n",
       "DP01313      547\n",
       "DP01407      106\n",
       "DP01436      961\n",
       "DP01437      297\n",
       "DP01558      211\n",
       "DP01973      266\n",
       "DP02025      571\n",
       "DP02216     1050\n",
       "DP02313      186\n",
       "Name: Length, dtype: int64"
      ]
     },
     "execution_count": 61,
     "metadata": {},
     "output_type": "execute_result"
    }
   ],
   "source": [
    "data_disprot[\"Length\"]\n"
   ]
  },
  {
   "cell_type": "code",
   "execution_count": 62,
   "id": "34d5f00d-34a1-4134-bf89-e47e0f1bf82f",
   "metadata": {},
   "outputs": [],
   "source": [
    "pressure = [0.27, 0.25, 0.278]\n"
   ]
  },
  {
   "cell_type": "code",
   "execution_count": 63,
   "id": "476647b4-0809-4aad-82ec-5302c1281d76",
   "metadata": {},
   "outputs": [
    {
     "data": {
      "text/plain": [
       "0.27"
      ]
     },
     "execution_count": 63,
     "metadata": {},
     "output_type": "execute_result"
    }
   ],
   "source": [
    "pressure[0]"
   ]
  },
  {
   "cell_type": "code",
   "execution_count": 64,
   "id": "7ad20ace-cb19-4714-b011-1f968dbfe37a",
   "metadata": {},
   "outputs": [
    {
     "data": {
      "text/plain": [
       "3"
      ]
     },
     "execution_count": 64,
     "metadata": {},
     "output_type": "execute_result"
    }
   ],
   "source": [
    "len(pressure)"
   ]
  },
  {
   "cell_type": "code",
   "execution_count": 66,
   "id": "c674a4a5-15e6-4a7b-a4d0-cda2fe876201",
   "metadata": {},
   "outputs": [
    {
     "data": {
      "text/plain": [
       "[0.25, 0.278]"
      ]
     },
     "execution_count": 66,
     "metadata": {},
     "output_type": "execute_result"
    }
   ],
   "source": [
    "pressure[1:]"
   ]
  },
  {
   "cell_type": "code",
   "execution_count": 68,
   "id": "7cbbd2fc-65d5-4b23-83c7-ad9464b7f511",
   "metadata": {},
   "outputs": [],
   "source": [
    "del pressure[0:2]"
   ]
  },
  {
   "cell_type": "code",
   "execution_count": 69,
   "id": "3cab72c5-cc3e-42b5-b1b3-5f03d5281f3d",
   "metadata": {},
   "outputs": [
    {
     "data": {
      "text/plain": [
       "[]"
      ]
     },
     "execution_count": 69,
     "metadata": {},
     "output_type": "execute_result"
    }
   ],
   "source": [
    "pressure"
   ]
  },
  {
   "cell_type": "code",
   "execution_count": 70,
   "id": "18914111-6b7f-4c7b-a99b-71c62aaa8057",
   "metadata": {},
   "outputs": [
    {
     "data": {
      "text/plain": [
       "0"
      ]
     },
     "execution_count": 70,
     "metadata": {},
     "output_type": "execute_result"
    }
   ],
   "source": [
    "len(pressure)"
   ]
  },
  {
   "cell_type": "code",
   "execution_count": 74,
   "id": "59f7cce4-912b-448d-a566-35719bf19430",
   "metadata": {},
   "outputs": [
    {
     "name": "stdout",
     "output_type": "stream",
     "text": [
      "1\n",
      "2\n",
      "3\n",
      "4\n",
      "apple\n"
     ]
    }
   ],
   "source": [
    "pressure = [1, 2, 3, 4, \"apple\"]\n",
    "for thing in pressure: \n",
    "    print(thing)\n"
   ]
  },
  {
   "cell_type": "code",
   "execution_count": 75,
   "id": "6533da92-3b1a-4132-98de-14a3678d6f1e",
   "metadata": {},
   "outputs": [
    {
     "name": "stdout",
     "output_type": "stream",
     "text": [
      "2 4 8\n",
      "3 9 27\n",
      "5 25 125\n"
     ]
    }
   ],
   "source": [
    "primes = [2, 3, 5]\n",
    "for p in primes:\n",
    "    squared = p**2\n",
    "    cubed = p**3\n",
    "    print (p, squared, cubed)\n",
    "    "
   ]
  },
  {
   "cell_type": "code",
   "execution_count": 76,
   "id": "483bfb4e-2790-437d-8683-212ad77d6994",
   "metadata": {},
   "outputs": [
    {
     "data": {
      "text/plain": [
       "range(0, 3)"
      ]
     },
     "execution_count": 76,
     "metadata": {},
     "output_type": "execute_result"
    }
   ],
   "source": [
    "range(0, 3)"
   ]
  },
  {
   "cell_type": "code",
   "execution_count": 77,
   "id": "8a084247-ecd3-47c5-aa71-771f558d6505",
   "metadata": {},
   "outputs": [
    {
     "name": "stdout",
     "output_type": "stream",
     "text": [
      "0\n",
      "1\n",
      "2\n"
     ]
    }
   ],
   "source": [
    "for n in range(0, 3):\n",
    "    print(n)"
   ]
  },
  {
   "cell_type": "code",
   "execution_count": 80,
   "id": "a5be4170-951c-40ef-808c-2db8b827d19f",
   "metadata": {},
   "outputs": [
    {
     "name": "stdout",
     "output_type": "stream",
     "text": [
      "a\n",
      "b\n",
      "c\n",
      "d\n",
      "e\n",
      "f\n",
      "g\n",
      "h\n",
      "i\n",
      "j\n",
      "k\n",
      "l\n",
      "m\n",
      "n\n",
      "o\n",
      "p\n",
      "q\n",
      "r\n",
      "s\n",
      "t\n",
      "u\n",
      "v\n",
      "w\n",
      "x\n",
      "y\n",
      "z\n"
     ]
    }
   ],
   "source": [
    "import string\n",
    "for letter in string.ascii_lowercase:\n",
    "    print(letter)"
   ]
  },
  {
   "cell_type": "code",
   "execution_count": 85,
   "id": "a61d2a6e-9d9b-4f6e-9051-638fd9cdd0c0",
   "metadata": {},
   "outputs": [
    {
     "name": "stdout",
     "output_type": "stream",
     "text": [
      "t 1\n",
      "i 2\n",
      "n 3\n"
     ]
    }
   ],
   "source": [
    "total = 0\n",
    "for char in \"tin\":\n",
    "    total = total + 1\n",
    "    print(char, total)"
   ]
  },
  {
   "cell_type": "code",
   "execution_count": 93,
   "id": "12ceba68-2b45-4cba-9b72-154e1b5d7175",
   "metadata": {},
   "outputs": [
    {
     "data": {
      "text/plain": [
       "Text(0.5, 1.0, 'My very meaningful graph')"
      ]
     },
     "execution_count": 93,
     "metadata": {},
     "output_type": "execute_result"
    },
    {
     "data": {
      "image/png": "[encoded data removed]",
      "text/plain": [
       "<Figure size 432x288 with 1 Axes>"
      ]
     },
     "metadata": {
      "needs_background": "light"
     },
     "output_type": "display_data"
    }
   ],
   "source": [
    "import matplotlib.pyplot as plt\n",
    "res_position = [0, 1, 2, 3]\n",
    "dis_prediction = [0.31, 0.44, 0.8, 0.62]\n",
    "plt.plot(res_position, dis_prediction)\n",
    "plt.xlabel(\"Residue position\")\n",
    "plt.ylabel(\"Disorder prediction\")\n",
    "plt.title(\"My very meaningful graph\")"
   ]
  },
  {
   "cell_type": "code",
   "execution_count": 94,
   "id": "593c8806-87c2-4f8e-9345-7697b5e71960",
   "metadata": {},
   "outputs": [
    {
     "data": {
      "text/plain": [
       "Text(0.5, 1.0, 'My very meaningful graph')"
      ]
     },
     "execution_count": 94,
     "metadata": {},
     "output_type": "execute_result"
    },
    {
     "data": {
      "image/png": "[encoded data removed]",
      "text/plain": [
       "<Figure size 432x288 with 1 Axes>"
      ]
     },
     "metadata": {
      "needs_background": "light"
     },
     "output_type": "display_data"
    }
   ],
   "source": [
    "plt.bar(res_position, dis_prediction)\n",
    "plt.xlabel(\"Residue position\")\n",
    "plt.ylabel(\"Disorder prediction\")\n",
    "plt.title(\"My very meaningful graph\")"
   ]
  },
  {
   "cell_type": "code",
   "execution_count": 102,
   "id": "431b8ff0-6d21-4590-aa97-6cbf0900f160",
   "metadata": {},
   "outputs": [
    {
     "data": {
      "text/plain": [
       "<AxesSubplot:xlabel='UniProt ACC'>"
      ]
     },
     "execution_count": 102,
     "metadata": {},
     "output_type": "execute_result"
    },
    {
     "data": {
      "image/png": "[encoded data removed]",
      "text/plain": [
       "<Figure size 432x288 with 1 Axes>"
      ]
     },
     "metadata": {
      "needs_background": "light"
     },
     "output_type": "display_data"
    }
   ],
   "source": [
    "data = pd.read_csv(\"data/DisProt_data_Caenorhabditis-elegans.csv\", index_col=\"UniProt ACC\")\n",
    "data[\"Length\"].plot()"
   ]
  },
  {
   "cell_type": "code",
   "execution_count": 101,
   "id": "c8b6d838-daa7-4807-bc2c-525097b3bb82",
   "metadata": {},
   "outputs": [
    {
     "data": {
      "text/plain": [
       "<AxesSubplot:>"
      ]
     },
     "execution_count": 101,
     "metadata": {},
     "output_type": "execute_result"
    },
    {
     "data": {
      "image/png": "[encoded data removed]",
      "text/plain": [
       "<Figure size 432x288 with 1 Axes>"
      ]
     },
     "metadata": {
      "needs_background": "light"
     },
     "output_type": "display_data"
    }
   ],
   "source": [
    "data2 = pd.read_csv(\"data/DisProt_and_pred_IDcontent.csv\", index_col=[0])\n",
    "data2[\"DisProt\"].plot()"
   ]
  },
  {
   "cell_type": "code",
   "execution_count": 104,
   "id": "ff060e0d-9f67-4405-9827-a833b3db02fc",
   "metadata": {},
   "outputs": [
    {
     "data": {
      "text/plain": [
       "<AxesSubplot:>"
      ]
     },
     "execution_count": 104,
     "metadata": {},
     "output_type": "execute_result"
    },
    {
     "data": {
      "image/png": "[encoded data removed]",
      "text/plain": [
       "<Figure size 432x288 with 1 Axes>"
      ]
     },
     "metadata": {
      "needs_background": "light"
     },
     "output_type": "display_data"
    }
   ],
   "source": [
    "data2[\"DisProt\"].plot.bar()"
   ]
  },
  {
   "cell_type": "code",
   "execution_count": 108,
   "id": "6c0ff717-af9b-4b44-bc2c-7f7c0c29b28d",
   "metadata": {},
   "outputs": [
    {
     "data": {
      "text/plain": [
       "20"
      ]
     },
     "execution_count": 108,
     "metadata": {},
     "output_type": "execute_result"
    },
    {
     "data": {
      "image/png": "[encoded data removed]",
      "text/plain": [
       "<Figure size 432x288 with 1 Axes>"
      ]
     },
     "metadata": {
      "needs_background": "light"
     },
     "output_type": "display_data"
    }
   ],
   "source": [
    "data2[\"DisProt\"].head(20).plot()\n",
    "len(data2[\"DisProt\"].head(20))"
   ]
  },
  {
   "cell_type": "code",
   "execution_count": 109,
   "id": "e46df1de-d402-429b-900a-88245e604304",
   "metadata": {},
   "outputs": [
    {
     "data": {
      "text/plain": [
       "<AxesSubplot:>"
      ]
     },
     "execution_count": 109,
     "metadata": {},
     "output_type": "execute_result"
    },
    {
     "data": {
      "image/png": "[encoded data removed]",
      "text/plain": [
       "<Figure size 432x288 with 1 Axes>"
      ]
     },
     "metadata": {
      "needs_background": "light"
     },
     "output_type": "display_data"
    }
   ],
   "source": [
    "data2[\"DisProt\"].head(20).plot.bar()"
   ]
  },
  {
   "cell_type": "code",
   "execution_count": 117,
   "id": "d5ebfbdb-3efb-422f-aa6d-2c1ee4c9366c",
   "metadata": {},
   "outputs": [
    {
     "data": {
      "text/plain": [
       "Text(0, 0.5, 'Predictor')"
      ]
     },
     "execution_count": 117,
     "metadata": {},
     "output_type": "execute_result"
    },
    {
     "data": {
      "image/png": "[encoded data removed]",
      "text/plain": [
       "<Figure size 432x288 with 1 Axes>"
      ]
     },
     "metadata": {
      "needs_background": "light"
     },
     "output_type": "display_data"
    }
   ],
   "source": [
    "plt.scatter(data2[\"DisProt\"], data2[\"Predictor\"], c=\"red\")\n",
    "plt.xlabel(\"DisProt\")\n",
    "plt.ylabel(\"Predictor\")"
   ]
  },
  {
   "cell_type": "code",
   "execution_count": 122,
   "id": "d99e06cf-be60-4396-9653-93c3975ef3c2",
   "metadata": {},
   "outputs": [
    {
     "data": {
      "image/png": "[encoded data removed]",
      "text/plain": [
       "<Figure size 432x288 with 1 Axes>"
      ]
     },
     "metadata": {
      "needs_background": "light"
     },
     "output_type": "display_data"
    }
   ],
   "source": [
    "myplot = data2.boxplot()\n",
    "plt.savefig(\"My_figure.png\")"
   ]
  },
  {
   "cell_type": "code",
   "execution_count": 120,
   "id": "d171c85d-de0a-483a-9b64-4f1b8229aa41",
   "metadata": {},
   "outputs": [
    {
     "data": {
      "text/html": [
       "<div>\n",
       "<style scoped>\n",
       "    .dataframe tbody tr th:only-of-type {\n",
       "        vertical-align: middle;\n",
       "    }\n",
       "\n",
       "    .dataframe tbody tr th {\n",
       "        vertical-align: top;\n",
       "    }\n",
       "\n",
       "    .dataframe thead th {\n",
       "        text-align: right;\n",
       "    }\n",
       "</style>\n",
       "<table border=\"1\" class=\"dataframe\">\n",
       "  <thead>\n",
       "    <tr style=\"text-align: right;\">\n",
       "      <th></th>\n",
       "      <th>DisProt</th>\n",
       "      <th>Predictor</th>\n",
       "    </tr>\n",
       "  </thead>\n",
       "  <tbody>\n",
       "    <tr>\n",
       "      <th>count</th>\n",
       "      <td>642.000000</td>\n",
       "      <td>642.000000</td>\n",
       "    </tr>\n",
       "    <tr>\n",
       "      <th>mean</th>\n",
       "      <td>0.258486</td>\n",
       "      <td>0.506048</td>\n",
       "    </tr>\n",
       "    <tr>\n",
       "      <th>std</th>\n",
       "      <td>0.273655</td>\n",
       "      <td>0.243792</td>\n",
       "    </tr>\n",
       "    <tr>\n",
       "      <th>min</th>\n",
       "      <td>0.008000</td>\n",
       "      <td>0.043000</td>\n",
       "    </tr>\n",
       "    <tr>\n",
       "      <th>25%</th>\n",
       "      <td>0.069250</td>\n",
       "      <td>0.308250</td>\n",
       "    </tr>\n",
       "    <tr>\n",
       "      <th>50%</th>\n",
       "      <td>0.162000</td>\n",
       "      <td>0.480500</td>\n",
       "    </tr>\n",
       "    <tr>\n",
       "      <th>75%</th>\n",
       "      <td>0.321250</td>\n",
       "      <td>0.679250</td>\n",
       "    </tr>\n",
       "    <tr>\n",
       "      <th>max</th>\n",
       "      <td>1.000000</td>\n",
       "      <td>1.000000</td>\n",
       "    </tr>\n",
       "  </tbody>\n",
       "</table>\n",
       "</div>"
      ],
      "text/plain": [
       "          DisProt   Predictor\n",
       "count  642.000000  642.000000\n",
       "mean     0.258486    0.506048\n",
       "std      0.273655    0.243792\n",
       "min      0.008000    0.043000\n",
       "25%      0.069250    0.308250\n",
       "50%      0.162000    0.480500\n",
       "75%      0.321250    0.679250\n",
       "max      1.000000    1.000000"
      ]
     },
     "execution_count": 120,
     "metadata": {},
     "output_type": "execute_result"
    }
   ],
   "source": [
    "data2.describe()"
   ]
  },
  {
   "cell_type": "code",
   "execution_count": null,
   "id": "82036863-f596-4475-b28f-dc512c36484a",
   "metadata": {},
   "outputs": [],
   "source": []
  }
 ],
 "metadata": {
  "kernelspec": {
   "display_name": "Python 3",
   "language": "python",
   "name": "python3"
  },
  "language_info": {
   "codemirror_mode": {
    "name": "ipython",
    "version": 3
   },
   "file_extension": ".py",
   "mimetype": "text/x-python",
   "name": "python",
   "nbconvert_exporter": "python",
   "pygments_lexer": "ipython3",
   "version": "3.8.8"
  }
 },
 "nbformat": 4,
 "nbformat_minor": 5
}
